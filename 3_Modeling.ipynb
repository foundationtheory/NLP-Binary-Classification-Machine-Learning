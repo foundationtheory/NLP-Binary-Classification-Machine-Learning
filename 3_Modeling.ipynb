{
 "cells": [
  {
   "cell_type": "markdown",
   "metadata": {},
   "source": [
    "## Imports"
   ]
  },
  {
   "cell_type": "code",
   "execution_count": 1,
   "metadata": {},
   "outputs": [
    {
     "name": "stderr",
     "output_type": "stream",
     "text": [
      "[nltk_data] Downloading package wordnet to /Users/ch/nltk_data...\n",
      "[nltk_data]   Package wordnet is already up-to-date!\n",
      "[nltk_data] Downloading package punkt to /Users/ch/nltk_data...\n",
      "[nltk_data]   Package punkt is already up-to-date!\n",
      "[nltk_data] Downloading package stopwords to /Users/ch/nltk_data...\n",
      "[nltk_data]   Package stopwords is already up-to-date!\n",
      "[nltk_data] Downloading package vader_lexicon to\n",
      "[nltk_data]     /Users/ch/nltk_data...\n",
      "[nltk_data]   Package vader_lexicon is already up-to-date!\n"
     ]
    }
   ],
   "source": [
    "import pandas as pd\n",
    "import datetime as dt\n",
    "import time\n",
    "import requests\n",
    "import matplotlib.pyplot as plt\n",
    "import seaborn as sns\n",
    "import numpy as np\n",
    "from nltk.tokenize import sent_tokenize, word_tokenize, RegexpTokenizer\n",
    "from nltk.stem import WordNetLemmatizer\n",
    "from nltk.stem.porter import PorterStemmer\n",
    "from nltk.corpus import stopwords\n",
    "from nltk.sentiment.vader import SentimentIntensityAnalyzer\n",
    "import re # Python's package for RegEx (Regular Expressions)\n",
    "from sklearn.model_selection import train_test_split, GridSearchCV\n",
    "from sklearn.pipeline import Pipeline\n",
    "from sklearn.naive_bayes import MultinomialNB\n",
    "from sklearn.linear_model import LogisticRegression\n",
    "from sklearn.linear_model import LogisticRegressionCV\n",
    "from sklearn.preprocessing import StandardScaler\n",
    "from sklearn.tree import DecisionTreeClassifier\n",
    "from sklearn.model_selection import cross_val_score\n",
    "from sklearn.metrics import accuracy_score\n",
    "from sklearn.ensemble import RandomForestClassifier, ExtraTreesClassifier, BaggingClassifier\n",
    "from sklearn.tree import DecisionTreeClassifier\n",
    "from sklearn import metrics\n",
    "from sklearn.metrics import confusion_matrix, plot_confusion_matrix\n",
    "import nltk\n",
    "nltk.download('wordnet')\n",
    "nltk.download('punkt')\n",
    "nltk.download('stopwords')\n",
    "nltk.download('vader_lexicon')\n",
    "from sklearn.feature_extraction.text import CountVectorizer, TfidfVectorizer\n",
    "import time\n",
    "pd.set_option('display.max_columns', None) # Displays all columns\n",
    "from sklearn.metrics import confusion_matrix, plot_confusion_matrix, accuracy_score, plot_roc_curve, roc_auc_score, recall_score, precision_score, f1_score"
   ]
  },
  {
   "cell_type": "code",
   "execution_count": 2,
   "metadata": {
    "scrolled": true
   },
   "outputs": [
    {
     "data": {
      "text/plain": [
       "'/Users/ch/Desktop/GA/Projects/project_3'"
      ]
     },
     "execution_count": 2,
     "metadata": {},
     "output_type": "execute_result"
    }
   ],
   "source": [
    "pwd!"
   ]
  },
  {
   "cell_type": "code",
   "execution_count": 3,
   "metadata": {},
   "outputs": [],
   "source": [
    "selectedfeatures = pd.read_csv('Datasets/selectedfeatures.csv',lineterminator='\\n')"
   ]
  },
  {
   "cell_type": "code",
   "execution_count": 4,
   "metadata": {
    "scrolled": true
   },
   "outputs": [
    {
     "data": {
      "text/plain": [
       "0    11374\n",
       "1    11062\n",
       "Name: subreddit, dtype: int64"
      ]
     },
     "execution_count": 4,
     "metadata": {},
     "output_type": "execute_result"
    }
   ],
   "source": [
    "selectedfeatures['subreddit'].value_counts()"
   ]
  },
  {
   "cell_type": "code",
   "execution_count": 5,
   "metadata": {},
   "outputs": [],
   "source": [
    "selectedfeatures['selftextwordcount'] = selectedfeatures['selftext'].str.split().str.len()"
   ]
  },
  {
   "cell_type": "code",
   "execution_count": 6,
   "metadata": {
    "scrolled": false
   },
   "outputs": [
    {
     "data": {
      "text/plain": [
       "selftext                   0\n",
       "subreddit                  0\n",
       "cleantext                523\n",
       "cleantexttokenized       523\n",
       "cleantexttokenizedlem    523\n",
       "tokenized                 12\n",
       "lemtokenized              12\n",
       "selftextwordcount          0\n",
       "dtype: int64"
      ]
     },
     "execution_count": 6,
     "metadata": {},
     "output_type": "execute_result"
    }
   ],
   "source": [
    "selectedfeatures.isnull().sum()"
   ]
  },
  {
   "cell_type": "raw",
   "metadata": {},
   "source": [
    ".apply(isna)"
   ]
  },
  {
   "cell_type": "code",
   "execution_count": 7,
   "metadata": {
    "scrolled": false
   },
   "outputs": [
    {
     "data": {
      "text/html": [
       "<div>\n",
       "<style scoped>\n",
       "    .dataframe tbody tr th:only-of-type {\n",
       "        vertical-align: middle;\n",
       "    }\n",
       "\n",
       "    .dataframe tbody tr th {\n",
       "        vertical-align: top;\n",
       "    }\n",
       "\n",
       "    .dataframe thead th {\n",
       "        text-align: right;\n",
       "    }\n",
       "</style>\n",
       "<table border=\"1\" class=\"dataframe\">\n",
       "  <thead>\n",
       "    <tr style=\"text-align: right;\">\n",
       "      <th></th>\n",
       "      <th>selftext</th>\n",
       "      <th>cleantext</th>\n",
       "    </tr>\n",
       "  </thead>\n",
       "  <tbody>\n",
       "    <tr>\n",
       "      <th>81</th>\n",
       "      <td>I really though I had more time.</td>\n",
       "      <td>NaN</td>\n",
       "    </tr>\n",
       "    <tr>\n",
       "      <th>112</th>\n",
       "      <td>https://youtu.be/mUkh-aLftXw</td>\n",
       "      <td>NaN</td>\n",
       "    </tr>\n",
       "    <tr>\n",
       "      <th>113</th>\n",
       "      <td>https://youtu.be/mUkh-aLftXw</td>\n",
       "      <td>NaN</td>\n",
       "    </tr>\n",
       "    <tr>\n",
       "      <th>170</th>\n",
       "      <td>https://imgur.com/a/XO2p7Cp</td>\n",
       "      <td>NaN</td>\n",
       "    </tr>\n",
       "    <tr>\n",
       "      <th>298</th>\n",
       "      <td>I would like some.</td>\n",
       "      <td>NaN</td>\n",
       "    </tr>\n",
       "    <tr>\n",
       "      <th>...</th>\n",
       "      <td>...</td>\n",
       "      <td>...</td>\n",
       "    </tr>\n",
       "    <tr>\n",
       "      <th>22126</th>\n",
       "      <td>http://metro.co.uk/2015/06/08/e3-2015-preview-...</td>\n",
       "      <td>NaN</td>\n",
       "    </tr>\n",
       "    <tr>\n",
       "      <th>22284</th>\n",
       "      <td>http://www.gamespot.com/articles/sony-treating...</td>\n",
       "      <td>NaN</td>\n",
       "    </tr>\n",
       "    <tr>\n",
       "      <th>22385</th>\n",
       "      <td>https://twitter.com/NoMansSky/status/593549483...</td>\n",
       "      <td>NaN</td>\n",
       "    </tr>\n",
       "    <tr>\n",
       "      <th>22395</th>\n",
       "      <td>http://imgur.com/5GPVkrg\\n\\nhttp://imgur.com/K...</td>\n",
       "      <td>NaN</td>\n",
       "    </tr>\n",
       "    <tr>\n",
       "      <th>22399</th>\n",
       "      <td>https://twitter.com/pandamusk/status/593559499...</td>\n",
       "      <td>NaN</td>\n",
       "    </tr>\n",
       "  </tbody>\n",
       "</table>\n",
       "<p>523 rows × 2 columns</p>\n",
       "</div>"
      ],
      "text/plain": [
       "                                                selftext cleantext\n",
       "81                      I really though I had more time.       NaN\n",
       "112                         https://youtu.be/mUkh-aLftXw       NaN\n",
       "113                         https://youtu.be/mUkh-aLftXw       NaN\n",
       "170                          https://imgur.com/a/XO2p7Cp       NaN\n",
       "298                                   I would like some.       NaN\n",
       "...                                                  ...       ...\n",
       "22126  http://metro.co.uk/2015/06/08/e3-2015-preview-...       NaN\n",
       "22284  http://www.gamespot.com/articles/sony-treating...       NaN\n",
       "22385  https://twitter.com/NoMansSky/status/593549483...       NaN\n",
       "22395  http://imgur.com/5GPVkrg\\n\\nhttp://imgur.com/K...       NaN\n",
       "22399  https://twitter.com/pandamusk/status/593559499...       NaN\n",
       "\n",
       "[523 rows x 2 columns]"
      ]
     },
     "execution_count": 7,
     "metadata": {},
     "output_type": "execute_result"
    }
   ],
   "source": [
    "selectedfeatures.loc[selectedfeatures['cleantext'].isna(),['selftext','cleantext']]"
   ]
  },
  {
   "cell_type": "code",
   "execution_count": 8,
   "metadata": {},
   "outputs": [],
   "source": [
    "selectedfeatures.dropna(inplace=True)"
   ]
  },
  {
   "cell_type": "code",
   "execution_count": 9,
   "metadata": {
    "scrolled": true
   },
   "outputs": [
    {
     "data": {
      "text/plain": [
       "(21913, 8)"
      ]
     },
     "execution_count": 9,
     "metadata": {},
     "output_type": "execute_result"
    }
   ],
   "source": [
    "selectedfeatures.shape"
   ]
  },
  {
   "cell_type": "markdown",
   "metadata": {},
   "source": [
    "# Baseline Accuracy for Future Models = 0.507 Plurality Class"
   ]
  },
  {
   "cell_type": "code",
   "execution_count": 10,
   "metadata": {
    "scrolled": false
   },
   "outputs": [
    {
     "name": "stdout",
     "output_type": "stream",
     "text": [
      "Baseline Accuracy is Predicting the Plurality Class\n"
     ]
    },
    {
     "data": {
      "text/plain": [
       "0    0.51563\n",
       "1    0.48437\n",
       "Name: subreddit, dtype: float64"
      ]
     },
     "execution_count": 10,
     "metadata": {},
     "output_type": "execute_result"
    }
   ],
   "source": [
    "print('Baseline Accuracy is Predicting the Plurality Class')\n",
    "selectedfeatures['subreddit'].value_counts(normalize=True)"
   ]
  },
  {
   "cell_type": "code",
   "execution_count": 11,
   "metadata": {
    "scrolled": false
   },
   "outputs": [
    {
     "data": {
      "image/png": "[encoded data removed]",
      "text/plain": [
       "<Figure size 432x288 with 1 Axes>"
      ]
     },
     "metadata": {
      "needs_background": "light"
     },
     "output_type": "display_data"
    }
   ],
   "source": [
    "plt.scatter(selectedfeatures['selftextwordcount'],selectedfeatures['subreddit'],s = 1)\n",
    "plt.axhline(selectedfeatures['subreddit'].mean(), color = 'orange')\n",
    "plt.xlabel('Classifications')\n",
    "plt.ylabel('SelfTextWordcount');"
   ]
  },
  {
   "cell_type": "code",
   "execution_count": 12,
   "metadata": {
    "scrolled": true
   },
   "outputs": [
    {
     "data": {
      "text/html": [
       "<div>\n",
       "<style scoped>\n",
       "    .dataframe tbody tr th:only-of-type {\n",
       "        vertical-align: middle;\n",
       "    }\n",
       "\n",
       "    .dataframe tbody tr th {\n",
       "        vertical-align: top;\n",
       "    }\n",
       "\n",
       "    .dataframe thead th {\n",
       "        text-align: right;\n",
       "    }\n",
       "</style>\n",
       "<table border=\"1\" class=\"dataframe\">\n",
       "  <thead>\n",
       "    <tr style=\"text-align: right;\">\n",
       "      <th></th>\n",
       "      <th>selftext</th>\n",
       "      <th>subreddit</th>\n",
       "      <th>cleantext</th>\n",
       "      <th>cleantexttokenized</th>\n",
       "      <th>cleantexttokenizedlem</th>\n",
       "      <th>tokenized</th>\n",
       "      <th>lemtokenized</th>\n",
       "      <th>selftextwordcount</th>\n",
       "    </tr>\n",
       "  </thead>\n",
       "  <tbody>\n",
       "    <tr>\n",
       "      <th>0</th>\n",
       "      <td>Idk but the whole \"replace humans with synths ...</td>\n",
       "      <td>1</td>\n",
       "      <td>idk replace humans synths mysterious institute...</td>\n",
       "      <td>idk replace humans synths mysterious institute...</td>\n",
       "      <td>idk replace human synths mysterious institute ...</td>\n",
       "      <td>idk but the whole replace humans with synths f...</td>\n",
       "      <td>idk but the whole replace human with synths fr...</td>\n",
       "      <td>119</td>\n",
       "    </tr>\n",
       "    <tr>\n",
       "      <th>1</th>\n",
       "      <td>I need it for university,  didn't know where e...</td>\n",
       "      <td>1</td>\n",
       "      <td>need university didnt post</td>\n",
       "      <td>need university didnt post</td>\n",
       "      <td>need university didnt post</td>\n",
       "      <td>i need it for university didn t know where els...</td>\n",
       "      <td>i need it for university didn t know where els...</td>\n",
       "      <td>12</td>\n",
       "    </tr>\n",
       "  </tbody>\n",
       "</table>\n",
       "</div>"
      ],
      "text/plain": [
       "                                            selftext  subreddit  \\\n",
       "0  Idk but the whole \"replace humans with synths ...          1   \n",
       "1  I need it for university,  didn't know where e...          1   \n",
       "\n",
       "                                           cleantext  \\\n",
       "0  idk replace humans synths mysterious institute...   \n",
       "1                         need university didnt post   \n",
       "\n",
       "                                  cleantexttokenized  \\\n",
       "0  idk replace humans synths mysterious institute...   \n",
       "1                         need university didnt post   \n",
       "\n",
       "                               cleantexttokenizedlem  \\\n",
       "0  idk replace human synths mysterious institute ...   \n",
       "1                         need university didnt post   \n",
       "\n",
       "                                           tokenized  \\\n",
       "0  idk but the whole replace humans with synths f...   \n",
       "1  i need it for university didn t know where els...   \n",
       "\n",
       "                                        lemtokenized  selftextwordcount  \n",
       "0  idk but the whole replace human with synths fr...                119  \n",
       "1  i need it for university didn t know where els...                 12  "
      ]
     },
     "execution_count": 12,
     "metadata": {},
     "output_type": "execute_result"
    }
   ],
   "source": [
    "selectedfeatures.head(2)"
   ]
  },
  {
   "cell_type": "raw",
   "metadata": {},
   "source": [
    "selectedfeatures['subreddit'] = selectedfeatures['subreddit'].astype(int)"
   ]
  },
  {
   "cell_type": "markdown",
   "metadata": {},
   "source": [
    "## Defining Results of GridSearch"
   ]
  },
  {
   "cell_type": "raw",
   "metadata": {},
   "source": [
    "model.param_grid # Displays hyperparameters searched over.\n",
    "model.best_score_ # Best mean cross-validated score achieved.\n",
    "model.best_estimator_ # Reference to model with best score. Is usable / callable.\n",
    "model.best_params_ # The hyperparameters that have been found to perform with the best score\n",
    "model.grid_scores_ # Display score attributes with corresponding hyperparameters."
   ]
  },
  {
   "cell_type": "markdown",
   "metadata": {},
   "source": [
    "## Model 1 - Pipe / Grid / CountVectorizer / MultinomialNB / Selftext"
   ]
  },
  {
   "cell_type": "code",
   "execution_count": 17,
   "metadata": {},
   "outputs": [
    {
     "data": {
      "text/html": [
       "<div>\n",
       "<style scoped>\n",
       "    .dataframe tbody tr th:only-of-type {\n",
       "        vertical-align: middle;\n",
       "    }\n",
       "\n",
       "    .dataframe tbody tr th {\n",
       "        vertical-align: top;\n",
       "    }\n",
       "\n",
       "    .dataframe thead th {\n",
       "        text-align: right;\n",
       "    }\n",
       "</style>\n",
       "<table border=\"1\" class=\"dataframe\">\n",
       "  <thead>\n",
       "    <tr style=\"text-align: right;\">\n",
       "      <th></th>\n",
       "      <th>selftext</th>\n",
       "      <th>subreddit</th>\n",
       "      <th>cleantext</th>\n",
       "      <th>cleantexttokenized</th>\n",
       "      <th>cleantexttokenizedlem</th>\n",
       "      <th>tokenized</th>\n",
       "      <th>lemtokenized</th>\n",
       "      <th>selftextwordcount</th>\n",
       "    </tr>\n",
       "  </thead>\n",
       "  <tbody>\n",
       "  </tbody>\n",
       "</table>\n",
       "</div>"
      ],
      "text/plain": [
       "Empty DataFrame\n",
       "Columns: [selftext, subreddit, cleantext, cleantexttokenized, cleantexttokenizedlem, tokenized, lemtokenized, selftextwordcount]\n",
       "Index: []"
      ]
     },
     "execution_count": 17,
     "metadata": {},
     "output_type": "execute_result"
    }
   ],
   "source": [
    "selectedfeatures.head(0)"
   ]
  },
  {
   "cell_type": "code",
   "execution_count": 27,
   "metadata": {
    "scrolled": true
   },
   "outputs": [
    {
     "name": "stdout",
     "output_type": "stream",
     "text": [
      "Fitting 5 folds for each of 8 candidates, totalling 40 fits\n"
     ]
    },
    {
     "name": "stderr",
     "output_type": "stream",
     "text": [
      "[Parallel(n_jobs=-1)]: Using backend LokyBackend with 4 concurrent workers.\n",
      "[Parallel(n_jobs=-1)]: Done  40 out of  40 | elapsed:  1.0min finished\n"
     ]
    },
    {
     "data": {
      "text/plain": [
       "GridSearchCV(cv=5,\n",
       "             estimator=Pipeline(steps=[('cvec', CountVectorizer()),\n",
       "                                       ('nb', MultinomialNB())]),\n",
       "             n_jobs=-1,\n",
       "             param_grid={'cvec__max_df': [0.78, 0.8],\n",
       "                         'cvec__max_features': [8500], 'cvec__min_df': [3, 3.1],\n",
       "                         'cvec__ngram_range': [(1, 1), (1, 2)],\n",
       "                         'cvec__stop_words': [None]},\n",
       "             verbose=1)"
      ]
     },
     "execution_count": 27,
     "metadata": {},
     "output_type": "execute_result"
    }
   ],
   "source": [
    "X = selectedfeatures['selftext'] # Tried selftext / # \n",
    "y = selectedfeatures['subreddit']\n",
    "X_train, X_test, y_train, y_test = train_test_split(X,y,test_size=0.25,\n",
    "                                                    stratify=y, # Equal Proportions\n",
    "                                                    random_state=42)\n",
    "pipe= Pipeline([('cvec', CountVectorizer()),('nb', MultinomialNB())])\n",
    "pipe_params = {\n",
    "    'cvec__max_features': [8500],\n",
    "    'cvec__min_df': [3],\n",
    "    'cvec__max_df': [.78,.80],\n",
    "    'cvec__ngram_range': [(1,1),(1,2)], # one word / oneword,two words\n",
    "    'cvec__stop_words': [None]}\n",
    "\n",
    "gs = GridSearchCV(pipe, # what object are we optimizing?\n",
    "                  pipe_params, # what parameters values are we searching?\n",
    "                  cv=5,\n",
    "                 verbose=1,\n",
    "                 n_jobs=-1) # 5-fold cross-validation.\n",
    "\n",
    "# Fit GridSearch to training data.\n",
    "gs.fit(X_train,y_train)"
   ]
  },
  {
   "cell_type": "code",
   "execution_count": 28,
   "metadata": {
    "scrolled": false
   },
   "outputs": [
    {
     "name": "stdout",
     "output_type": "stream",
     "text": [
      "Best Estimator: Pipeline(steps=[('cvec',\n",
      "                 CountVectorizer(max_df=0.8, max_features=8500, min_df=3)),\n",
      "                ('nb', MultinomialNB())])\n",
      "Grid Search Best Score: 0.9373855878512911\n",
      "Grid Search CV Train Score: 0.9458439819885603\n",
      "Grid Search CV Test Score: 0.9324694287278701\n",
      "Grid Search CV Sensititivity: 0.9199748743718594\n",
      "Grid Search CV Precision: 0.9491998097230823\n",
      "Grid Search CV F1: 0.9343429059994085\n",
      "Grid Search CV Roc Auc: 0.9869200319106932\n",
      "Specificity: 0.943716814159292\n",
      "TPR: 0.9199748743718594\n",
      "FPR: 0.05628318584070797\n",
      "Best Parameters: {'cvec__max_df': 0.8, 'cvec__max_features': 8500, 'cvec__min_df': 3, 'cvec__ngram_range': (1, 1), 'cvec__stop_words': None}\n"
     ]
    },
    {
     "data": {
      "image/png": "[encoded data removed]",
      "text/plain": [
       "<Figure size 432x288 with 2 Axes>"
      ]
     },
     "metadata": {
      "needs_background": "light"
     },
     "output_type": "display_data"
    }
   ],
   "source": [
    "print('Best Estimator:', gs.best_estimator_)\n",
    "print('Grid Search Best Score:',gs.best_score_) \n",
    "print('Grid Search CV Train Score:',gs.score(X_train,y_train)) \n",
    "print('Grid Search CV Test Score:',gs.score(X_test,y_test)) # Minimize false positives\n",
    "print('Grid Search CV Sensititivity:', cross_val_score(gs.best_estimator_,X_train, y_train,cv = 5,scoring='recall').mean())\n",
    "print('Grid Search CV Precision:', cross_val_score(gs.best_estimator_,X_train, y_train,cv = 5,scoring='precision').mean())\n",
    "print('Grid Search CV F1:', cross_val_score(gs.best_estimator_,X_train, y_train,cv = 5,scoring='f1').mean())\n",
    "print('Grid Search CV Roc Auc:',cross_val_score(gs.best_estimator_,X_train, y_train,cv = 5,scoring='roc_auc').mean())\n",
    "preds = gs.predict(X_test) # Get predictions\n",
    "tn, fp, fn, tp = confusion_matrix(y_test, preds).ravel() # Save confusion matrix values\n",
    "spec = tn / (tn + fp)\n",
    "print('Specificity:', spec)\n",
    "print('TPR:', cross_val_score(gs.best_estimator_,X_train, y_train,cv = 5,scoring='recall').mean())\n",
    "fpr = fp / (fp + tn)\n",
    "print('FPR:', fpr)\n",
    "print('Best Parameters:', gs.best_params_)\n",
    "plot_confusion_matrix(gs,X_test,y_test,cmap='Blues',values_format='d',display_labels=['positive', 'negative']);"
   ]
  },
  {
   "cell_type": "code",
   "execution_count": 29,
   "metadata": {
    "scrolled": true
   },
   "outputs": [],
   "source": [
    "pred_df = pd.DataFrame({'true_values': y_test,\n",
    "                        'pred_probs': gs.predict_proba(X_test)[:,1]}) #prob in class 1"
   ]
  },
  {
   "cell_type": "code",
   "execution_count": 30,
   "metadata": {},
   "outputs": [
    {
     "data": {
      "text/html": [
       "<div>\n",
       "<style scoped>\n",
       "    .dataframe tbody tr th:only-of-type {\n",
       "        vertical-align: middle;\n",
       "    }\n",
       "\n",
       "    .dataframe tbody tr th {\n",
       "        vertical-align: top;\n",
       "    }\n",
       "\n",
       "    .dataframe thead th {\n",
       "        text-align: right;\n",
       "    }\n",
       "</style>\n",
       "<table border=\"1\" class=\"dataframe\">\n",
       "  <thead>\n",
       "    <tr style=\"text-align: right;\">\n",
       "      <th></th>\n",
       "      <th>true_values</th>\n",
       "      <th>pred_probs</th>\n",
       "    </tr>\n",
       "  </thead>\n",
       "  <tbody>\n",
       "    <tr>\n",
       "      <th>10380</th>\n",
       "      <td>1</td>\n",
       "      <td>8.976871e-01</td>\n",
       "    </tr>\n",
       "    <tr>\n",
       "      <th>10339</th>\n",
       "      <td>1</td>\n",
       "      <td>9.987021e-01</td>\n",
       "    </tr>\n",
       "    <tr>\n",
       "      <th>12914</th>\n",
       "      <td>0</td>\n",
       "      <td>3.425184e-09</td>\n",
       "    </tr>\n",
       "    <tr>\n",
       "      <th>14709</th>\n",
       "      <td>0</td>\n",
       "      <td>4.843617e-01</td>\n",
       "    </tr>\n",
       "    <tr>\n",
       "      <th>18508</th>\n",
       "      <td>0</td>\n",
       "      <td>1.500905e-04</td>\n",
       "    </tr>\n",
       "  </tbody>\n",
       "</table>\n",
       "</div>"
      ],
      "text/plain": [
       "       true_values    pred_probs\n",
       "10380            1  8.976871e-01\n",
       "10339            1  9.987021e-01\n",
       "12914            0  3.425184e-09\n",
       "14709            0  4.843617e-01\n",
       "18508            0  1.500905e-04"
      ]
     },
     "execution_count": 30,
     "metadata": {},
     "output_type": "execute_result"
    }
   ],
   "source": [
    "pred_df.head()"
   ]
  },
  {
   "cell_type": "code",
   "execution_count": 31,
   "metadata": {},
   "outputs": [
    {
     "name": "stderr",
     "output_type": "stream",
     "text": [
      "/Users/ch/opt/anaconda3/lib/python3.8/site-packages/seaborn/distributions.py:2551: FutureWarning: `distplot` is a deprecated function and will be removed in a future version. Please adapt your code to use either `displot` (a figure-level function with similar flexibility) or `histplot` (an axes-level function for histograms).\n",
      "  warnings.warn(msg, FutureWarning)\n"
     ]
    },
    {
     "data": {
      "image/png": "[encoded data removed]",
      "text/plain": [
       "<Figure size 864x360 with 1 Axes>"
      ]
     },
     "metadata": {
      "needs_background": "light"
     },
     "output_type": "display_data"
    }
   ],
   "source": [
    "plt.figure(figsize = (12, 5))\n",
    "\n",
    "for group in pred_df.groupby('true_values'): # plot distributions of predicted probabilities by actual values\n",
    "    sns.distplot(group[1], \n",
    "                 kde = False, \n",
    "                 bins = 20, \n",
    "                 label = f'Actual Outcome = {group[0]}')\n",
    "plt.xlabel('Predicted Probability that Outcome = 1')\n",
    "plt.legend();"
   ]
  },
  {
   "cell_type": "code",
   "execution_count": 32,
   "metadata": {},
   "outputs": [
    {
     "data": {
      "image/png": "[encoded data removed]",
      "text/plain": [
       "<Figure size 432x288 with 1 Axes>"
      ]
     },
     "metadata": {
      "needs_background": "light"
     },
     "output_type": "display_data"
    }
   ],
   "source": [
    "plot_roc_curve(gs,X_test,y_test,) # ROC curve\n",
    "#       X-axis Y-axis \n",
    "plt.plot([0,1],[0,1], label='baseline',linestyle='--') # add worst case scenario line\n",
    "plt.legend(); # add a legend"
   ]
  },
  {
   "cell_type": "code",
   "execution_count": 35,
   "metadata": {},
   "outputs": [
    {
     "data": {
      "text/plain": [
       "0.9856991950703898"
      ]
     },
     "execution_count": 35,
     "metadata": {},
     "output_type": "execute_result"
    }
   ],
   "source": [
    "roc_auc_score(y_test,gs.predict_proba(X_test)[:,1])"
   ]
  },
  {
   "cell_type": "markdown",
   "metadata": {},
   "source": [
    "## Comparison to Baseline Accuracy: Interpretation of Model 1\n",
    "Baseline Accuracy for Plurality Class is 0.51563. Model 1 Naive Bayes significantly outperformed the Baseline Accuracy of 0.51563. \n",
    "**Model 1 Naive Bayes scores at the top of the list with the highest performance.**\n",
    "For this model I used the CountVectorizer() in order to compare to TfidfVectorizer(). I used selftext to compare original data as X versus cleaned and lematized data as X.\n",
    "\n",
    "Model 1 is relatively **low variance** since the train accuracy and test accuracy scores are pretty great. The model is picking up on meaningful data and assembling proper relationships. Accuracy of 0.9364 on cross validation test is satisfactory. Model 1 has almost **no bias** since it predicts consistently between test and train scores and achieves pretty great scores. This shows the model is correctly fit to the training data. The larger the difference between the train cross validation score and the test cross validation score, the more positive one can be that the model is overfit and is high-bias. Since there is only some slight difference\n",
    "between cross validation scores between train and test, I am relatively confident the model doesn't show signs of having bias or being overfit.\n",
    "\n",
    "All the other classification scores are excellent."
   ]
  },
  {
   "cell_type": "markdown",
   "metadata": {},
   "source": [
    "## Model 2 - Pipe / Grid / CountVectorizer / MultinomialNB / RegExTokenized"
   ]
  },
  {
   "cell_type": "code",
   "execution_count": 36,
   "metadata": {},
   "outputs": [
    {
     "data": {
      "text/html": [
       "<div>\n",
       "<style scoped>\n",
       "    .dataframe tbody tr th:only-of-type {\n",
       "        vertical-align: middle;\n",
       "    }\n",
       "\n",
       "    .dataframe tbody tr th {\n",
       "        vertical-align: top;\n",
       "    }\n",
       "\n",
       "    .dataframe thead th {\n",
       "        text-align: right;\n",
       "    }\n",
       "</style>\n",
       "<table border=\"1\" class=\"dataframe\">\n",
       "  <thead>\n",
       "    <tr style=\"text-align: right;\">\n",
       "      <th></th>\n",
       "      <th>selftext</th>\n",
       "      <th>subreddit</th>\n",
       "      <th>cleantext</th>\n",
       "      <th>cleantexttokenized</th>\n",
       "      <th>cleantexttokenizedlem</th>\n",
       "      <th>tokenized</th>\n",
       "      <th>lemtokenized</th>\n",
       "      <th>selftextwordcount</th>\n",
       "    </tr>\n",
       "  </thead>\n",
       "  <tbody>\n",
       "  </tbody>\n",
       "</table>\n",
       "</div>"
      ],
      "text/plain": [
       "Empty DataFrame\n",
       "Columns: [selftext, subreddit, cleantext, cleantexttokenized, cleantexttokenizedlem, tokenized, lemtokenized, selftextwordcount]\n",
       "Index: []"
      ]
     },
     "execution_count": 36,
     "metadata": {},
     "output_type": "execute_result"
    }
   ],
   "source": [
    "selectedfeatures.head(0)"
   ]
  },
  {
   "cell_type": "code",
   "execution_count": 40,
   "metadata": {
    "scrolled": false
   },
   "outputs": [
    {
     "name": "stdout",
     "output_type": "stream",
     "text": [
      "Fitting 5 folds for each of 12 candidates, totalling 60 fits\n"
     ]
    },
    {
     "name": "stderr",
     "output_type": "stream",
     "text": [
      "[Parallel(n_jobs=-1)]: Using backend LokyBackend with 4 concurrent workers.\n",
      "[Parallel(n_jobs=-1)]: Done  42 tasks      | elapsed:   24.6s\n",
      "[Parallel(n_jobs=-1)]: Done  60 out of  60 | elapsed:   33.2s finished\n"
     ]
    },
    {
     "data": {
      "text/plain": [
       "Pipeline(steps=[('cvec',\n",
       "                 CountVectorizer(max_df=0.75, max_features=5000, min_df=3,\n",
       "                                 stop_words='english')),\n",
       "                ('nb', MultinomialNB())])"
      ]
     },
     "execution_count": 40,
     "metadata": {},
     "output_type": "execute_result"
    }
   ],
   "source": [
    "X = selectedfeatures['tokenized']\n",
    "y = selectedfeatures['subreddit'] # 0 or 1\n",
    "X_train, X_test, y_train, y_test = train_test_split(X,y,test_size=0.25,\n",
    "                                                    stratify=y, # Equal Proportions\n",
    "                                                    random_state=42)\n",
    "\n",
    "pipe= Pipeline([('cvec', CountVectorizer()),('nb', MultinomialNB())])\n",
    "\n",
    "pipe_params = {\n",
    "    'cvec__max_features': [5000,5300],\n",
    "    'cvec__min_df': [3,3.1,3.2],\n",
    "    'cvec__max_df': [.75,.80],\n",
    "    'cvec__ngram_range': [(1,1)], # one word / oneword,two words\n",
    "    'cvec__stop_words': ['english']}\n",
    "\n",
    "gs = GridSearchCV(pipe, # what object are we optimizing?\n",
    "                  pipe_params, # what parameters values are we searching?\n",
    "                  cv=5, # 5-fold cross-validation.\n",
    "                  verbose=1,\n",
    "                  n_jobs=-1)\n",
    "\n",
    "# Fit GridSearch to training data.\n",
    "gs.fit(X_train,y_train)\n",
    "gs.best_estimator_"
   ]
  },
  {
   "cell_type": "code",
   "execution_count": 41,
   "metadata": {
    "scrolled": true
   },
   "outputs": [
    {
     "name": "stdout",
     "output_type": "stream",
     "text": [
      "Best Estimator: Pipeline(steps=[('cvec',\n",
      "                 CountVectorizer(max_df=0.75, max_features=5000, min_df=3,\n",
      "                                 stop_words='english')),\n",
      "                ('nb', MultinomialNB())])\n",
      "Grid Search Best Score: 0.9355603077543527\n",
      "Grid Search CV Train Score: 0.9418279177315322\n",
      "Grid Search CV Test Score: 0.9304617630954554\n",
      "Grid Search CV Sensititivty: 0.924748743718593\n",
      "Grid Search CV Precision: 0.9412067977866844\n",
      "Grid Search CV F1: 0.9328916304073557\n",
      "Grid Search CV Roc Auc: 0.9874967857374308\n",
      "Specificity: 0.9408849557522124\n",
      "TPR: 0.924748743718593\n",
      "FPR: 0.05911504424778761\n",
      "Best Parameters: {'cvec__max_df': 0.75, 'cvec__max_features': 5000, 'cvec__min_df': 3, 'cvec__ngram_range': (1, 1), 'cvec__stop_words': 'english'}\n"
     ]
    },
    {
     "data": {
      "image/png": "[encoded data removed]",
      "text/plain": [
       "<Figure size 432x288 with 2 Axes>"
      ]
     },
     "metadata": {
      "needs_background": "light"
     },
     "output_type": "display_data"
    }
   ],
   "source": [
    "print('Best Estimator:', gs.best_estimator_)\n",
    "print('Grid Search Best Score:',gs.best_score_)\n",
    "print('Grid Search CV Train Score:',gs.score(X_train,y_train))\n",
    "print('Grid Search CV Test Score:',gs.score(X_test,y_test))\n",
    "print('Grid Search CV Sensititivty:', cross_val_score(gs.best_estimator_,X_train, y_train,cv = 5,scoring='recall').mean())\n",
    "print('Grid Search CV Precision:', cross_val_score(gs.best_estimator_,X_train, y_train,cv = 5,scoring='precision').mean())\n",
    "print('Grid Search CV F1:', cross_val_score(gs.best_estimator_,X_train, y_train,cv = 5,scoring='f1').mean())\n",
    "print('Grid Search CV Roc Auc:',cross_val_score(gs.best_estimator_,X_train, y_train,cv = 5,scoring='roc_auc').mean())\n",
    "preds = gs.predict(X_test) # Get predictions\n",
    "tn, fp, fn, tp = confusion_matrix(y_test, preds).ravel() # Save confusion matrix values\n",
    "spec = tn / (tn + fp)\n",
    "print('Specificity:', spec)\n",
    "print('TPR:', cross_val_score(gs.best_estimator_,X_train, y_train,cv = 5,scoring='recall').mean())\n",
    "fpr = fp / (fp + tn)\n",
    "print('FPR:', fpr)\n",
    "print('Best Parameters:', gs.best_params_)\n",
    "plot_confusion_matrix(gs,X_test,y_test,cmap='Blues',values_format='d',display_labels=['positive', 'negative']);"
   ]
  },
  {
   "cell_type": "markdown",
   "metadata": {},
   "source": [
    "## Comparison to Baseline Accuracy: Interpretation of Model 2\n",
    "Baseline Accuracy for Plurality Class is 0.51563.\n",
    "\n",
    "Model 2 Naive Bayes significantly outperformed the Baseline Accuracy of 0.51563.\n",
    "Model 2 Naive Bayes scores very close with model 1 Naive Bayes.\n",
    "For this model I used the CountVectorizer() in order to compare to TfidfVectorizer().\n",
    "\n",
    "I used lematized data as X versus the original selftext as X. Model 2 is relatively **low variance** since the train accuracy and test accuracy scores are pretty great in the 0.93 range respestively. The model is picking up mostly on meaningful data and assembling proper relationships. Accuracy of 0.9301 on cross validation test is satisfactory. Model 2 has almost **no bias** since it predicts consistently between test and train scores. This shows the model is correctly fit to the training data. The larger the difference between the train cross validation score and the test cross validation score, the more positive one can be that the model is overfit and is high-bias. \n",
    "\n",
    "Since there is only some slight between cross validation scores between train and test, I am relatively confident the model doesn't show signs of having bias or being overfit.\n",
    "\n",
    "All the other classification scores are excellent."
   ]
  },
  {
   "cell_type": "markdown",
   "metadata": {},
   "source": [
    "## Model 3 - Pipe / Grid / TFIDf / MultinomialNB / Lemtokenized"
   ]
  },
  {
   "cell_type": "code",
   "execution_count": 48,
   "metadata": {},
   "outputs": [
    {
     "data": {
      "text/html": [
       "<div>\n",
       "<style scoped>\n",
       "    .dataframe tbody tr th:only-of-type {\n",
       "        vertical-align: middle;\n",
       "    }\n",
       "\n",
       "    .dataframe tbody tr th {\n",
       "        vertical-align: top;\n",
       "    }\n",
       "\n",
       "    .dataframe thead th {\n",
       "        text-align: right;\n",
       "    }\n",
       "</style>\n",
       "<table border=\"1\" class=\"dataframe\">\n",
       "  <thead>\n",
       "    <tr style=\"text-align: right;\">\n",
       "      <th></th>\n",
       "      <th>selftext</th>\n",
       "      <th>subreddit</th>\n",
       "      <th>cleantext</th>\n",
       "      <th>cleantexttokenized</th>\n",
       "      <th>cleantexttokenizedlem</th>\n",
       "      <th>tokenized</th>\n",
       "      <th>lemtokenized</th>\n",
       "      <th>selftextwordcount</th>\n",
       "    </tr>\n",
       "  </thead>\n",
       "  <tbody>\n",
       "  </tbody>\n",
       "</table>\n",
       "</div>"
      ],
      "text/plain": [
       "Empty DataFrame\n",
       "Columns: [selftext, subreddit, cleantext, cleantexttokenized, cleantexttokenizedlem, tokenized, lemtokenized, selftextwordcount]\n",
       "Index: []"
      ]
     },
     "execution_count": 48,
     "metadata": {},
     "output_type": "execute_result"
    }
   ],
   "source": [
    "selectedfeatures.head(0)"
   ]
  },
  {
   "cell_type": "code",
   "execution_count": 54,
   "metadata": {},
   "outputs": [
    {
     "name": "stdout",
     "output_type": "stream",
     "text": [
      "Fitting 5 folds for each of 2 candidates, totalling 10 fits\n"
     ]
    },
    {
     "name": "stderr",
     "output_type": "stream",
     "text": [
      "[Parallel(n_jobs=-1)]: Using backend LokyBackend with 4 concurrent workers.\n",
      "[Parallel(n_jobs=-1)]: Done  10 out of  10 | elapsed:    6.6s finished\n"
     ]
    },
    {
     "data": {
      "text/plain": [
       "GridSearchCV(cv=5,\n",
       "             estimator=Pipeline(steps=[('tvec', TfidfVectorizer()),\n",
       "                                       ('nb', MultinomialNB())]),\n",
       "             n_jobs=-1,\n",
       "             param_grid={'tvec__max_df': [0.8, 0.95],\n",
       "                         'tvec__max_features': [4000], 'tvec__min_df': [15],\n",
       "                         'tvec__ngram_range': [(1, 1)],\n",
       "                         'tvec__stop_words': ['english']},\n",
       "             verbose=1)"
      ]
     },
     "execution_count": 54,
     "metadata": {},
     "output_type": "execute_result"
    }
   ],
   "source": [
    "Xt = selectedfeatures['lemtokenized']\n",
    "yt = selectedfeatures['subreddit']\n",
    "Xt_train, Xt_test, yt_train, yt_test = train_test_split(Xt,yt,test_size=0.25,\n",
    "                                                    stratify=y, # Equal Proportions\n",
    "                                                    random_state=42)\n",
    "pipe= Pipeline([('tvec', TfidfVectorizer()),('nb', MultinomialNB())])\n",
    "pipe_params = {\n",
    "    'tvec__max_features': [4000],\n",
    "    'tvec__min_df': [15],\n",
    "    'tvec__max_df': [.8,.95],\n",
    "    'tvec__ngram_range': [(1,1)], # one word / oneword,two words\n",
    "    'tvec__stop_words': ['english']}\n",
    "gstvec = GridSearchCV(pipe, # what object are we optimizing?\n",
    "                  pipe_params, # what parameters values are we searching?\n",
    "                  cv=5, # 5-fold cross-validation.\n",
    "                     verbose=1,\n",
    "                     n_jobs=-1) \n",
    "gstvec.fit(Xt_train,yt_train) # Fit GridSearch to training data."
   ]
  },
  {
   "cell_type": "code",
   "execution_count": 55,
   "metadata": {
    "scrolled": false
   },
   "outputs": [
    {
     "name": "stdout",
     "output_type": "stream",
     "text": [
      "Best Estimator: Pipeline(steps=[('tvec',\n",
      "                 TfidfVectorizer(max_df=0.8, max_features=4000, min_df=15,\n",
      "                                 stop_words='english')),\n",
      "                ('nb', MultinomialNB())])\n",
      "Grid Search Best Score: 0.9314225000791587\n",
      "Grid Search CV Train Score: 0.9445052939028843\n",
      "Grid Search CV Test Score: 0.9268114619456105\n",
      "Grid Search CV Sensititivty: 0.9223618090452261\n",
      "Grid Search CV Precision: 0.9351845494803014\n",
      "Grid Search CV F1: 0.9287152812842047\n",
      "Grid Search CV Roc Auc: 0.9849619295538755\n",
      "Specificity: 0.9302654867256637\n",
      "TPR: 0.9223618090452261\n",
      "FPR: 0.06973451327433629\n",
      "Best Parameters: {'tvec__max_df': 0.8, 'tvec__max_features': 4000, 'tvec__min_df': 15, 'tvec__ngram_range': (1, 1), 'tvec__stop_words': 'english'}\n"
     ]
    },
    {
     "data": {
      "image/png": "[encoded data removed]",
      "text/plain": [
       "<Figure size 432x288 with 2 Axes>"
      ]
     },
     "metadata": {
      "needs_background": "light"
     },
     "output_type": "display_data"
    }
   ],
   "source": [
    "print('Best Estimator:', gstvec.best_estimator_)\n",
    "print('Grid Search Best Score:',gstvec.best_score_)\n",
    "print('Grid Search CV Train Score:',gstvec.score(Xt_train,yt_train))\n",
    "print('Grid Search CV Test Score:',gstvec.score(Xt_test,yt_test))\n",
    "print('Grid Search CV Sensititivty:', cross_val_score(gstvec.best_estimator_,Xt_train, yt_train,cv = 5,scoring='recall').mean())\n",
    "print('Grid Search CV Precision:', cross_val_score(gstvec.best_estimator_,Xt_train, yt_train,cv = 5,scoring='precision').mean())\n",
    "print('Grid Search CV F1:', cross_val_score(gstvec.best_estimator_,Xt_train, yt_train,cv = 5,scoring='f1').mean())\n",
    "print('Grid Search CV Roc Auc:',cross_val_score(gstvec.best_estimator_,Xt_train, yt_train,cv = 5,scoring='roc_auc').mean())\n",
    "preds = gstvec.predict(Xt_test) # Get predictions\n",
    "tn, fp, fn, tp = confusion_matrix(yt_test, preds).ravel() # Save confusion matrix values\n",
    "spec = tn / (tn + fp)\n",
    "print('Specificity:', spec)\n",
    "print('TPR:', cross_val_score(gstvec.best_estimator_,Xt_train, yt_train,cv = 5,scoring='recall').mean())\n",
    "fpr = fp / (fp + tn)\n",
    "print('FPR:', fpr)\n",
    "print('Best Parameters:', gstvec.best_params_)\n",
    "plot_confusion_matrix(gstvec,Xt_test,yt_test,cmap='Blues',values_format='d',display_labels=['positive', 'negative']);"
   ]
  },
  {
   "cell_type": "markdown",
   "metadata": {},
   "source": [
    "## Comparison to Baseline Accuracy: Interpretation of Model 3"
   ]
  },
  {
   "cell_type": "markdown",
   "metadata": {},
   "source": [
    "Baseline Accuracy for Plurality Class is 0.51563.\n",
    "\n",
    "Model 3 Naive Bayes significantly outperformed the Baseline Accuracy of 0.51563.\n",
    "Model 3 Naive Bayes scores very close with model 1 Naive Bayes. For this model I used the TfidfVectorizer in order to compare to count vectorizer.\n",
    "\n",
    "I used selftext to compare original data as X versus cleaned and lematized data as X. Model 3 is relatively **low variance** since the train accuracy and test accuracy scores are pretty great. The model is picking up on meaningful data and assembling proper relationships. Accuracy of 0.91 on cross validation test is satisfactory. Model 3 has very **low bias** since it predicts consistently between test and train scores. This shows the model is correctly fit to the training data. The larger the difference between the train cross validation score and the test cross validation score, the more positive one can be that the model is overfit and is high-bias. Since there is only some slight between cross validation scores between train and test, I am relatively confident the model doesn't show signs of having significant bias or being overfit.\n",
    "\n",
    "I tuned the hyper parameters through multiple executions of the classifier, and removed hyper parameters that didn't suit the model.\n",
    "\n",
    "All the other classification scores are excellent."
   ]
  },
  {
   "cell_type": "markdown",
   "metadata": {},
   "source": [
    "## Model 4 - Pipe / Grid / TFIDf / MultinomialNB / Tokenized "
   ]
  },
  {
   "cell_type": "code",
   "execution_count": 61,
   "metadata": {},
   "outputs": [
    {
     "name": "stdout",
     "output_type": "stream",
     "text": [
      "Fitting 5 folds for each of 3 candidates, totalling 15 fits\n"
     ]
    },
    {
     "name": "stderr",
     "output_type": "stream",
     "text": [
      "[Parallel(n_jobs=-1)]: Using backend LokyBackend with 4 concurrent workers.\n",
      "[Parallel(n_jobs=-1)]: Done  15 out of  15 | elapsed:    8.8s finished\n"
     ]
    },
    {
     "data": {
      "text/plain": [
       "GridSearchCV(cv=5,\n",
       "             estimator=Pipeline(steps=[('tvec', TfidfVectorizer()),\n",
       "                                       ('nb', MultinomialNB())]),\n",
       "             n_jobs=-1,\n",
       "             param_grid={'tvec__max_df': [0.8], 'tvec__max_features': [5000],\n",
       "                         'tvec__min_df': [3, 7, 11],\n",
       "                         'tvec__ngram_range': [(1, 1)],\n",
       "                         'tvec__stop_words': ['english']},\n",
       "             verbose=1)"
      ]
     },
     "execution_count": 61,
     "metadata": {},
     "output_type": "execute_result"
    }
   ],
   "source": [
    "Xtl = selectedfeatures['tokenized']\n",
    "ytl = selectedfeatures['subreddit']\n",
    "Xtl_train, Xtl_test, ytl_train, ytl_test = train_test_split(Xtl,ytl,test_size=0.25,\n",
    "                                                    stratify=y, # Equal Proportions\n",
    "                                                    random_state=42)\n",
    "pipe= Pipeline([('tvec', TfidfVectorizer()),('nb', MultinomialNB())])\n",
    "pipe_params = {\n",
    "    'tvec__max_features': [5000],\n",
    "    'tvec__min_df': [3,7,11],\n",
    "    'tvec__max_df': [.80],\n",
    "    'tvec__ngram_range': [(1,1)], # one word / oneword,two words\n",
    "    'tvec__stop_words': ['english']}\n",
    "gstvecl = GridSearchCV(pipe, # what object are we optimizing?\n",
    "                       pipe_params, # what parameters values are we searching?\n",
    "                       cv=5, # 5-fold cross-validation.\n",
    "                       verbose=1,\n",
    "                       n_jobs=-1)\n",
    "\n",
    "gstvecl.fit(Xtl_train,ytl_train) # Fit GridSearch to training data."
   ]
  },
  {
   "cell_type": "code",
   "execution_count": 62,
   "metadata": {
    "scrolled": true
   },
   "outputs": [
    {
     "name": "stdout",
     "output_type": "stream",
     "text": [
      "Best Estimator: Pipeline(steps=[('tvec',\n",
      "                 TfidfVectorizer(max_df=0.8, max_features=5000, min_df=7,\n",
      "                                 stop_words='english')),\n",
      "                ('nb', MultinomialNB())])\n",
      "Grid Search Best Score: 0.9323350753193059\n",
      "Grid Search CV Train Score: 0.946939272240477\n",
      "Grid Search CV Test Score: 0.9284540974630408\n",
      "Grid Search CV Sensititivty: 0.9241206030150753\n",
      "Grid Search CV Precision: 0.9354179943825545\n",
      "Grid Search CV F1: 0.9297246060907988\n",
      "Grid Search CV Roc Auc: 0.985494870034402\n",
      "Specificity: 0.9323893805309734\n",
      "TPR: 0.9241206030150753\n",
      "FPR: 0.06761061946902655\n",
      "Best Parameters: {'tvec__max_df': 0.8, 'tvec__max_features': 5000, 'tvec__min_df': 7, 'tvec__ngram_range': (1, 1), 'tvec__stop_words': 'english'}\n"
     ]
    },
    {
     "data": {
      "image/png": "[encoded data removed]",
      "text/plain": [
       "<Figure size 432x288 with 2 Axes>"
      ]
     },
     "metadata": {
      "needs_background": "light"
     },
     "output_type": "display_data"
    }
   ],
   "source": [
    "print('Best Estimator:', gstvecl.best_estimator_)\n",
    "print('Grid Search Best Score:',gstvecl.best_score_)\n",
    "print('Grid Search CV Train Score:',gstvecl.score(Xtl_train,ytl_train))\n",
    "print('Grid Search CV Test Score:',gstvecl.score(Xtl_test,ytl_test))\n",
    "print('Grid Search CV Sensititivty:', cross_val_score(gstvecl.best_estimator_,Xtl_train, ytl_train,cv = 5,scoring='recall').mean())\n",
    "print('Grid Search CV Precision:', cross_val_score(gstvecl.best_estimator_,Xtl_train, ytl_train,cv = 5,scoring='precision').mean())\n",
    "print('Grid Search CV F1:', cross_val_score(gstvecl.best_estimator_,Xtl_train, ytl_train,cv = 5,scoring='f1').mean())\n",
    "print('Grid Search CV Roc Auc:',cross_val_score(gstvecl.best_estimator_,Xtl_train, ytl_train,cv = 5,scoring='roc_auc').mean())\n",
    "preds = gstvecl.predict(Xtl_test) # Get predictions\n",
    "tn, fp, fn, tp = confusion_matrix(ytl_test, preds).ravel() # Save confusion matrix values\n",
    "spec = tn / (tn + fp)\n",
    "print('Specificity:', spec)\n",
    "print('TPR:', cross_val_score(gstvecl.best_estimator_,Xtl_train, ytl_train,cv = 5,scoring='recall').mean())\n",
    "fpr = fp / (fp + tn)\n",
    "print('FPR:', fpr)\n",
    "print('Best Parameters:', gstvecl.best_params_)\n",
    "plot_confusion_matrix(gstvecl,Xtl_test,ytl_test,cmap='Blues',values_format='d',display_labels=['positive', 'negative']);"
   ]
  },
  {
   "cell_type": "markdown",
   "metadata": {},
   "source": [
    "## Comparison to Baseline Accuracy: Interpretation of Model 4\n",
    "Baseline Accuracy for Plurality Class is 0.51563.\n",
    "\n",
    "Model 4 Naive Bayes significantly outperformed the Baseline Accuracy of 0.51563.\n",
    "Model 4 Naive Bayes scores very close with model 1 Naive Bayes.\n",
    "For this model I used the TfidfVectorizer in order to compare to count vectorizer.\n",
    "\n",
    "Model 4 is relatively **low variance** since the train accuracy and test accuracy scores are pretty great. The model is picking up on meaningful data assembling proper relationships. Accuracy of 0.91 on cross validation test is satisfactory. Model 4 has **low bias** since it predicts consistently between test and train scores. This shows the model is correctly fit to the training data. The larger the difference between the train cross validation score and the test cross validation score, the more positive one can be that the model is overfit and is high-bias. Since there is only some difference between cross validation scores between train and test, I am relatively confident the model doesn't show signs of having bias or being overfit.\n",
    "\n",
    "I tuned the hyper parameters through multiple executions of the classifier, and removed hyper parameters that didn't suit the model.\n",
    "\n",
    "All the other classification scores are excellent."
   ]
  },
  {
   "cell_type": "markdown",
   "metadata": {},
   "source": [
    "# Model 5 - Pipe / Grid / TF-IDF / LogisticRegression "
   ]
  },
  {
   "cell_type": "code",
   "execution_count": 63,
   "metadata": {
    "scrolled": true
   },
   "outputs": [
    {
     "name": "stdout",
     "output_type": "stream",
     "text": [
      "Fitting 5 folds for each of 32 candidates, totalling 160 fits\n"
     ]
    },
    {
     "name": "stderr",
     "output_type": "stream",
     "text": [
      "[Parallel(n_jobs=-1)]: Using backend LokyBackend with 4 concurrent workers.\n",
      "[Parallel(n_jobs=-1)]: Done  42 tasks      | elapsed:   58.2s\n",
      "[Parallel(n_jobs=-1)]: Done 160 out of 160 | elapsed:  3.6min finished\n"
     ]
    },
    {
     "data": {
      "text/plain": [
       "GridSearchCV(cv=5,\n",
       "             estimator=Pipeline(steps=[('cvec', CountVectorizer()),\n",
       "                                       ('ss', StandardScaler(with_mean=False)),\n",
       "                                       ('lg',\n",
       "                                        LogisticRegression(solver='liblinear'))]),\n",
       "             n_jobs=-1,\n",
       "             param_grid={'cvec__max_df': [0.7, 0.75],\n",
       "                         'cvec__max_features': [3000], 'cvec__min_df': [20, 23],\n",
       "                         'cvec__ngram_range': [(1, 1), (1, 2)],\n",
       "                         'cvec__stop_words': [None, 'english'],\n",
       "                         'lg__C': [0.001, 0.01]},\n",
       "             verbose=1)"
      ]
     },
     "execution_count": 63,
     "metadata": {},
     "output_type": "execute_result"
    }
   ],
   "source": [
    "Xlg = selectedfeatures['selftext']\n",
    "ylg = selectedfeatures['subreddit']\n",
    "Xlg_train, Xlg_test, ylg_train, ylg_test = train_test_split(Xlg,ylg,test_size=0.25,\n",
    "                                                    stratify=y, # Equal Proportions\n",
    "                                                    random_state=42)\n",
    "pipe= Pipeline([('cvec', CountVectorizer()),\n",
    "                ('ss', StandardScaler(with_mean=False)),\n",
    "                ('lg', LogisticRegression(solver='liblinear',penalty='l2'))])\n",
    "pipe_params = {\n",
    "    'cvec__max_features': [3000],\n",
    "    'cvec__min_df': [20,23],\n",
    "    'cvec__max_df': [.7,.75],\n",
    "    'cvec__ngram_range': [(1,1),(1,2)], # one word / oneword,two words\n",
    "    'lg__C': [.001,.01],\n",
    "    'cvec__stop_words': [None, 'english']}\n",
    "\n",
    "gslg = GridSearchCV(pipe, # what object are we optimizing?\n",
    "                    pipe_params, # what parameters values are we searching?\n",
    "                    cv=5,\n",
    "                    verbose=1,\n",
    "                    n_jobs=-1) # 5-fold cross-validation.\n",
    "\n",
    "# Fit GridSearch to training data.\n",
    "gslg.fit(Xlg_train,ylg_train)"
   ]
  },
  {
   "cell_type": "code",
   "execution_count": 67,
   "metadata": {
    "scrolled": true
   },
   "outputs": [
    {
     "name": "stdout",
     "output_type": "stream",
     "text": [
      "Best Estimator: Pipeline(steps=[('cvec',\n",
      "                 TfidfVectorizer(max_df=0.75, max_features=2800, min_df=20)),\n",
      "                ('ss', StandardScaler(with_mean=False)),\n",
      "                ('lg', LogisticRegression(C=0.01, solver='liblinear'))])\n",
      "Grid Search Best Score: 0.8988679837816249\n",
      "Grid Search CV Train Score: 0.9720700985761227\n",
      "Grid Search CV Test Score: 0.9056397152765103\n",
      "Grid Search CV Sensititivty: 0.8954773869346735\n",
      "Grid Search CV Precision: 0.895704890465662\n",
      "Grid Search CV F1: 0.8955884963187488\n",
      "Grid Search CV Roc Auc: 0.96706321385532\n",
      "Specificity: 0.9026548672566371\n",
      "TPR: 0.8954773869346735\n",
      "FPR: 0.09734513274336283\n",
      "Best Parameters: {'cvec__max_df': 0.75, 'cvec__max_features': 2800, 'cvec__min_df': 20, 'cvec__ngram_range': (1, 1), 'cvec__stop_words': None, 'lg__C': 0.01}\n"
     ]
    },
    {
     "data": {
      "image/png": "[encoded data removed]",
      "text/plain": [
       "<Figure size 432x288 with 2 Axes>"
      ]
     },
     "metadata": {
      "needs_background": "light"
     },
     "output_type": "display_data"
    }
   ],
   "source": [
    "print('Best Estimator:', gslg.best_estimator_)\n",
    "print('Grid Search Best Score:',gslg.best_score_)\n",
    "print('Grid Search CV Train Score:',gslg.score(Xlg_train,ylg_train))\n",
    "print('Grid Search CV Test Score:',gslg.score(Xlg_test,ylg_test))\n",
    "print('Grid Search CV Sensititivty:', cross_val_score(gslg.best_estimator_,Xlg_train, ylg_train,cv = 5,scoring='recall').mean())\n",
    "print('Grid Search CV Precision:', cross_val_score(gslg.best_estimator_,Xlg_train, ylg_train,cv = 5,scoring='precision').mean())\n",
    "print('Grid Search CV F1:', cross_val_score(gslg.best_estimator_,Xlg_train, ylg_train,cv = 5,scoring='f1').mean())\n",
    "print('Grid Search CV Roc Auc:',cross_val_score(gslg.best_estimator_,Xlg_train, ylg_train,cv = 5,scoring='roc_auc').mean())\n",
    "preds = gslg.predict(Xlg_test) # Get predictions\n",
    "tn, fp, fn, tp = confusion_matrix(ylg_test, preds).ravel() # Save confusion matrix values\n",
    "spec = tn / (tn + fp)\n",
    "print('Specificity:', spec)\n",
    "print('TPR:', cross_val_score(gslg.best_estimator_,Xlg_train, ylg_train,cv = 5,scoring='recall').mean())\n",
    "fpr = fp / (fp + tn)\n",
    "print('FPR:', fpr)\n",
    "print('Best Parameters:', gslg.best_params_)\n",
    "plot_confusion_matrix(gslg,Xlg_test,ylg_test,cmap='Blues',values_format='d',display_labels=['positive', 'negative']);"
   ]
  },
  {
   "cell_type": "markdown",
   "metadata": {},
   "source": [
    "## Comparison to Baseline Accuracy: Interpretation of Model 5\n",
    "Baseline Accuracy for Plurality Class is 0.51563.\n",
    "\n",
    "Model 5 Logistic Regression significantly outperformed the Baseline Accuracy of 0.51563.\n",
    "But also came very close to Model 1 Naive Bayes scores, just like the other logreg model.\n",
    "For this model I used CountVectorizer() in order to compare to how TfidfVectorizer performs on logistic regression models.\n",
    "\n",
    "Model 5 is relatively **low variance** since the train accuracy and test accuracy scores are pretty great. The model is picking up on meaningful data assembling proper relationships. Accuracy of 0.91 on cross validation test is satisfactory. Model 5 has **some bias** since it predicts consistently between test and train scores, but there is still a 0.05 difference between train and test cross validation scores. This shows the model slightly overfit to the training data. The larger the difference between the train cross validation score and the test cross validation score, the more positive one can be that the model is overfit and is high-bias. Since there is only some difference between cross validation scores between train and test, I am relatively confident the model doesn't show signs of being high bias.\n",
    "\n",
    "I tuned the hyper parameters through multiple executions of the classifier, and removed hyper parameters that didn't suit the model.\n",
    "\n",
    "All the other classification scores were excellent."
   ]
  },
  {
   "cell_type": "markdown",
   "metadata": {},
   "source": [
    "# Model 6 - Pipe / Grid / TFIDf / LogisticRegression / Lemtokenized"
   ]
  },
  {
   "cell_type": "code",
   "execution_count": 65,
   "metadata": {},
   "outputs": [
    {
     "data": {
      "text/html": [
       "<div>\n",
       "<style scoped>\n",
       "    .dataframe tbody tr th:only-of-type {\n",
       "        vertical-align: middle;\n",
       "    }\n",
       "\n",
       "    .dataframe tbody tr th {\n",
       "        vertical-align: top;\n",
       "    }\n",
       "\n",
       "    .dataframe thead th {\n",
       "        text-align: right;\n",
       "    }\n",
       "</style>\n",
       "<table border=\"1\" class=\"dataframe\">\n",
       "  <thead>\n",
       "    <tr style=\"text-align: right;\">\n",
       "      <th></th>\n",
       "      <th>selftext</th>\n",
       "      <th>subreddit</th>\n",
       "      <th>cleantext</th>\n",
       "      <th>cleantexttokenized</th>\n",
       "      <th>cleantexttokenizedlem</th>\n",
       "      <th>tokenized</th>\n",
       "      <th>lemtokenized</th>\n",
       "      <th>selftextwordcount</th>\n",
       "    </tr>\n",
       "  </thead>\n",
       "  <tbody>\n",
       "  </tbody>\n",
       "</table>\n",
       "</div>"
      ],
      "text/plain": [
       "Empty DataFrame\n",
       "Columns: [selftext, subreddit, cleantext, cleantexttokenized, cleantexttokenizedlem, tokenized, lemtokenized, selftextwordcount]\n",
       "Index: []"
      ]
     },
     "execution_count": 65,
     "metadata": {},
     "output_type": "execute_result"
    }
   ],
   "source": [
    "selectedfeatures.head(0)"
   ]
  },
  {
   "cell_type": "code",
   "execution_count": 66,
   "metadata": {},
   "outputs": [
    {
     "name": "stdout",
     "output_type": "stream",
     "text": [
      "Fitting 5 folds for each of 120 candidates, totalling 600 fits\n"
     ]
    },
    {
     "name": "stderr",
     "output_type": "stream",
     "text": [
      "[Parallel(n_jobs=-1)]: Using backend LokyBackend with 4 concurrent workers.\n",
      "[Parallel(n_jobs=-1)]: Done  42 tasks      | elapsed:   45.7s\n",
      "[Parallel(n_jobs=-1)]: Done 192 tasks      | elapsed:  2.9min\n",
      "[Parallel(n_jobs=-1)]: Done 442 tasks      | elapsed:  6.4min\n",
      "[Parallel(n_jobs=-1)]: Done 600 out of 600 | elapsed:  8.7min finished\n"
     ]
    },
    {
     "data": {
      "text/plain": [
       "GridSearchCV(cv=5,\n",
       "             estimator=Pipeline(steps=[('cvec', TfidfVectorizer()),\n",
       "                                       ('ss', StandardScaler(with_mean=False)),\n",
       "                                       ('lg',\n",
       "                                        LogisticRegression(solver='liblinear'))]),\n",
       "             n_jobs=-1,\n",
       "             param_grid={'cvec__max_df': [0.75, 0.85, 0.95],\n",
       "                         'cvec__max_features': [2800, 3000],\n",
       "                         'cvec__min_df': [2, 4, 10, 15, 20],\n",
       "                         'cvec__ngram_range': [(1, 1), (1, 2)],\n",
       "                         'cvec__stop_words': [None, 'english'],\n",
       "                         'lg__C': [0.01]},\n",
       "             verbose=1)"
      ]
     },
     "execution_count": 66,
     "metadata": {},
     "output_type": "execute_result"
    }
   ],
   "source": [
    "Xlg = selectedfeatures['cleantext']\n",
    "ylg = selectedfeatures['subreddit']\n",
    "Xlg_train, Xlg_test, ylg_train, ylg_test = train_test_split(Xlg,ylg,test_size=0.25,\n",
    "                                                    stratify=y, # Equal Proportions\n",
    "                                                    random_state=42)\n",
    "pipe= Pipeline([('cvec', TfidfVectorizer()),\n",
    "                ('ss', StandardScaler(with_mean=False)),\n",
    "                ('lg', LogisticRegression(solver='liblinear',penalty='l2'))])\n",
    "pipe_params = {\n",
    "    'cvec__max_features': [2800,3000],\n",
    "    'cvec__min_df': [2,4,10,15,20],\n",
    "    'cvec__max_df': [.75,.85,.95],\n",
    "    'cvec__ngram_range': [(1,1),(1,2)], # one word / oneword,two words\n",
    "    'lg__C': [.01],\n",
    "    'cvec__stop_words': [None, 'english']}\n",
    "\n",
    "gslg = GridSearchCV(pipe, # what object are we optimizing?\n",
    "                    pipe_params, # what parameters values are we searching?\n",
    "                    cv=5,\n",
    "                    verbose=1,\n",
    "                    n_jobs=-1) # 5-fold cross-validation.\n",
    "\n",
    "# Fit GridSearch to training data.\n",
    "gslg.fit(Xlg_train,ylg_train)"
   ]
  },
  {
   "cell_type": "code",
   "execution_count": 68,
   "metadata": {},
   "outputs": [
    {
     "name": "stdout",
     "output_type": "stream",
     "text": [
      "Best Estimator: Pipeline(steps=[('cvec',\n",
      "                 TfidfVectorizer(max_df=0.75, max_features=2800, min_df=20)),\n",
      "                ('ss', StandardScaler(with_mean=False)),\n",
      "                ('lg', LogisticRegression(C=0.01, solver='liblinear'))])\n",
      "Grid Search Best Score: 0.8988679837816249\n",
      "Grid Search CV Train Score: 0.9720700985761227\n",
      "Grid Search CV Test Score: 0.9056397152765103\n",
      "Grid Search CV Sensititivty: 0.8954773869346735\n",
      "Grid Search CV Precision: 0.895704890465662\n",
      "Grid Search CV F1: 0.8955884963187488\n",
      "Grid Search CV Roc Auc: 0.96706321385532\n",
      "Specificity: 0.9026548672566371\n",
      "TPR: 0.8954773869346735\n",
      "FPR: 0.09734513274336283\n",
      "Best Parameters: {'cvec__max_df': 0.75, 'cvec__max_features': 2800, 'cvec__min_df': 20, 'cvec__ngram_range': (1, 1), 'cvec__stop_words': None, 'lg__C': 0.01}\n"
     ]
    },
    {
     "data": {
      "image/png": "[encoded data removed]",
      "text/plain": [
       "<Figure size 432x288 with 2 Axes>"
      ]
     },
     "metadata": {
      "needs_background": "light"
     },
     "output_type": "display_data"
    }
   ],
   "source": [
    "print('Best Estimator:', gslg.best_estimator_)\n",
    "print('Grid Search Best Score:',gslg.best_score_)\n",
    "print('Grid Search CV Train Score:',gslg.score(Xlg_train,ylg_train))\n",
    "print('Grid Search CV Test Score:',gslg.score(Xlg_test,ylg_test))\n",
    "print('Grid Search CV Sensititivty:', cross_val_score(gslg.best_estimator_,Xlg_train, ylg_train,cv = 5,scoring='recall').mean())\n",
    "print('Grid Search CV Precision:', cross_val_score(gslg.best_estimator_,Xlg_train, ylg_train,cv = 5,scoring='precision').mean())\n",
    "print('Grid Search CV F1:', cross_val_score(gslg.best_estimator_,Xlg_train, ylg_train,cv = 5,scoring='f1').mean())\n",
    "print('Grid Search CV Roc Auc:',cross_val_score(gslg.best_estimator_,Xlg_train, ylg_train,cv = 5,scoring='roc_auc').mean())\n",
    "preds = gslg.predict(Xlg_test) # Get predictions\n",
    "tn, fp, fn, tp = confusion_matrix(ylg_test, preds).ravel() # Save confusion matrix values\n",
    "spec = tn / (tn + fp)\n",
    "print('Specificity:', spec)\n",
    "print('TPR:', cross_val_score(gslg.best_estimator_,Xlg_train, ylg_train,cv = 5,scoring='recall').mean())\n",
    "fpr = fp / (fp + tn)\n",
    "print('FPR:', fpr)\n",
    "print('Best Parameters:', gslg.best_params_)\n",
    "plot_confusion_matrix(gslg,Xlg_test,ylg_test,cmap='Blues',values_format='d',display_labels=['positive', 'negative']);"
   ]
  },
  {
   "cell_type": "markdown",
   "metadata": {},
   "source": [
    "## Comparison to Baseline Accuracy: Interpretation of Model 6\n",
    "Baseline Accuracy for Plurality Class is 0.51563.\n",
    "\n",
    "Model 6 Logistic Regression significantly outperformed the Baseline Accuracy of 0.51563.\n",
    "But also came very close to Model 1 Naive Bayes scores.\n",
    "\n",
    "On this model I used TfidfVectorizer() to test against CountVectorizer effects on Logistic Regression models. Model 6 has slight **bias** since the train accuracy and test accuracy scores are in the 90th percentile. The model is mostly picking up on meaningful data assembling proper relationships. \n",
    "\n",
    "Accuracy of 0.91 on cross validation test is satisfactory. Model 6 has **some variance** since it predicts somewhat consistently between test and train scores, but there is still a 0.05 difference between train and test cross validation scores. This shows the model is slightly overfit to the training data. The larger the difference between the train cross validation score and the test cross validation score, the more positive one can be that the model is high variance. With some difference between cross validation scores between train and test, I am  confident the model doesn't show signs of being high variance.\n",
    "\n",
    "I tuned the hyper parameters through multiple executions of the classifier, and removed hyper parameters that didn't suit the model. All the other classification scores are satisfactory."
   ]
  },
  {
   "cell_type": "markdown",
   "metadata": {},
   "source": [
    "# Model 7 - Pipe / Grid / CountVectorizer / DecisionTree / Selftext"
   ]
  },
  {
   "cell_type": "code",
   "execution_count": 71,
   "metadata": {
    "scrolled": true
   },
   "outputs": [
    {
     "name": "stdout",
     "output_type": "stream",
     "text": [
      "Fitting 5 folds for each of 12 candidates, totalling 60 fits\n"
     ]
    },
    {
     "name": "stderr",
     "output_type": "stream",
     "text": [
      "[Parallel(n_jobs=-1)]: Using backend LokyBackend with 4 concurrent workers.\n",
      "[Parallel(n_jobs=-1)]: Done  42 tasks      | elapsed:   35.2s\n",
      "[Parallel(n_jobs=-1)]: Done  60 out of  60 | elapsed:   46.1s finished\n"
     ]
    },
    {
     "data": {
      "text/plain": [
       "GridSearchCV(cv=5,\n",
       "             estimator=Pipeline(steps=[('cvec', CountVectorizer()),\n",
       "                                       ('dt', DecisionTreeClassifier())]),\n",
       "             n_jobs=-1,\n",
       "             param_grid={'cvec__max_df': [0.75], 'cvec__max_features': [3000],\n",
       "                         'cvec__min_df': [2, 3], 'cvec__ngram_range': [(1, 1)],\n",
       "                         'cvec__stop_words': ['english'],\n",
       "                         'dt__ccp_alpha': [0.01, 0.1, 1], 'dt__max_depth': [7],\n",
       "                         'dt__min_samples_leaf': [3],\n",
       "                         'dt__min_samples_split': [7, 12]},\n",
       "             verbose=1)"
      ]
     },
     "execution_count": 71,
     "metadata": {},
     "output_type": "execute_result"
    }
   ],
   "source": [
    "Xdt = selectedfeatures['selftext']\n",
    "ydt = selectedfeatures['subreddit']\n",
    "Xdt_train, Xdt_test, ydt_train, ydt_test = train_test_split(Xdt,ydt,test_size=0.25,\n",
    "                                                    stratify=y, # Equal Proportions\n",
    "                                                    random_state=42)\n",
    "pipe= Pipeline([('cvec', CountVectorizer()),('dt', DecisionTreeClassifier())])\n",
    "pipe_params = {\n",
    "    'cvec__max_features': [3000],\n",
    "    'cvec__min_df': [2,3],\n",
    "    'cvec__max_df': [.75],\n",
    "    'cvec__ngram_range': [(1,1)], # one word / oneword,two words\n",
    "    'cvec__stop_words': ['english'],\n",
    "    'dt__max_depth':[7],\n",
    "    'dt__min_samples_split':[7,12],\n",
    "    'dt__min_samples_leaf':[3],\n",
    "    'dt__ccp_alpha':[0.01, 0.1, 1]}\n",
    "\n",
    "gsdt = GridSearchCV(pipe, # what object are we optimizing?\n",
    "                    pipe_params, # what parameters values are we searching?\n",
    "                    cv=5, # 5-fold cross-validation.\n",
    "                    verbose=1, # communicates whats happening/ how many fits\n",
    "                    n_jobs=-1) # how many cores will go to work\n",
    "gsdt.fit(Xdt_train,ydt_train) # Fit GridSearch to training data."
   ]
  },
  {
   "cell_type": "code",
   "execution_count": 72,
   "metadata": {},
   "outputs": [
    {
     "name": "stdout",
     "output_type": "stream",
     "text": [
      "Best Estimator: Pipeline(steps=[('cvec',\n",
      "                 CountVectorizer(max_df=0.75, max_features=3000, min_df=2,\n",
      "                                 stop_words='english')),\n",
      "                ('dt',\n",
      "                 DecisionTreeClassifier(ccp_alpha=0.01, max_depth=7,\n",
      "                                        min_samples_leaf=3,\n",
      "                                        min_samples_split=7))])\n",
      "Grid Search Best Score: 0.711817130913366\n",
      "Grid Search CV Train Score: 0.711816964829013\n",
      "Grid Search CV Test Score: 0.7130863296221939\n",
      "Grid Search CV Sensititivty: 0.9953517587939699\n",
      "Grid Search CV Precision: 0.6277411715748036\n",
      "Grid Search CV F1: 0.7699081976302942\n",
      "Grid Search CV Roc Auc: 0.8234508041525832\n",
      "Specificity: 0.8913274336283186\n",
      "TPR: 0.9953517587939699\n",
      "FPR: 0.10867256637168142\n",
      "Best Parameters: {'cvec__max_df': 0.75, 'cvec__max_features': 3000, 'cvec__min_df': 2, 'cvec__ngram_range': (1, 1), 'cvec__stop_words': 'english', 'dt__ccp_alpha': 0.01, 'dt__max_depth': 7, 'dt__min_samples_leaf': 3, 'dt__min_samples_split': 7}\n"
     ]
    },
    {
     "data": {
      "image/png": "[encoded data removed]",
      "text/plain": [
       "<Figure size 432x288 with 2 Axes>"
      ]
     },
     "metadata": {
      "needs_background": "light"
     },
     "output_type": "display_data"
    }
   ],
   "source": [
    "print('Best Estimator:', gsdt.best_estimator_)\n",
    "print('Grid Search Best Score:',gsdt.best_score_)\n",
    "print('Grid Search CV Train Score:',gsdt.score(Xdt_train,ydt_train))\n",
    "print('Grid Search CV Test Score:',gsdt.score(Xdt_test,ydt_test))\n",
    "print('Grid Search CV Sensititivty:', cross_val_score(gsdt.best_estimator_,Xdt_train, ydt_train,cv = 5,scoring='recall').mean())\n",
    "print('Grid Search CV Precision:', cross_val_score(gsdt.best_estimator_,Xdt_train, ydt_train,cv = 5,scoring='precision').mean())\n",
    "print('Grid Search CV F1:', cross_val_score(gsdt.best_estimator_,Xdt_train, ydt_train,cv = 5,scoring='f1').mean())\n",
    "print('Grid Search CV Roc Auc:',cross_val_score(gsdt.best_estimator_,Xdt_train, ydt_train,cv = 5,scoring='roc_auc').mean())\n",
    "preds = gslg.predict(Xdt_test) # Get predictions\n",
    "tn, fp, fn, tp = confusion_matrix(ydt_test, preds).ravel() # Save confusion matrix values\n",
    "spec = tn / (tn + fp)\n",
    "print('Specificity:', spec)\n",
    "print('TPR:', cross_val_score(gsdt.best_estimator_,Xdt_train, ydt_train,cv = 5,scoring='recall').mean())\n",
    "fpr = fp / (fp + tn)\n",
    "print('FPR:', fpr)\n",
    "print('Best Parameters:', gsdt.best_params_)\n",
    "plot_confusion_matrix(gsdt,Xdt_test,ydt_test,cmap='Blues',values_format='d',display_labels=['positive', 'negative']);"
   ]
  },
  {
   "cell_type": "markdown",
   "metadata": {},
   "source": [
    "## Comparison to Baseline Accuracy: Interpretation of Model 7\n",
    "Baseline Accuracy for Plurality Class is 0.51563.\n",
    "\n",
    "Model 7 Decision Tree still outperformed the Baseline Accuracy of 0.51563.\n",
    "But didn't come close to Model 1 Naive Bayes scores either.\n",
    "\n",
    "Model 7 is somewhat **high** bias / overfit since the train accuracy and test accuracy scores are just alright. The model is picking up on static and meaningless data. Accuracy of 0.71 is nothing to be overwhelmed by. Model 7 has low **variance** since it predicts consistently between test and train scores. The larger the difference between the train cross validation score and the test cross validation score, the more positive one can be that the model is high variance. Since there is almost no difference between cross validation scores between train and test, I am confident the model is low variance.\n",
    "\n",
    "The classifier consistency predicts mediocre results. The other classification scores are questionable. With cross validation scores where they are, I wasn't expecting the difference between the cv scores and the Specificity or Precision, at 0.4454 and 0.6327 respectively. I tuned the hyper parameters through multiple executions of the classifier, and removed hyper parameters that didn't suit the model."
   ]
  },
  {
   "cell_type": "markdown",
   "metadata": {},
   "source": [
    "# Model 8 - Pipe / Grid / CountVectorizer/ DecisionTree / Lemtokenized"
   ]
  },
  {
   "cell_type": "code",
   "execution_count": 73,
   "metadata": {},
   "outputs": [
    {
     "name": "stdout",
     "output_type": "stream",
     "text": [
      "Fitting 5 folds for each of 32 candidates, totalling 160 fits\n"
     ]
    },
    {
     "name": "stderr",
     "output_type": "stream",
     "text": [
      "[Parallel(n_jobs=-1)]: Using backend LokyBackend with 4 concurrent workers.\n",
      "[Parallel(n_jobs=-1)]: Done  42 tasks      | elapsed:   31.2s\n",
      "[Parallel(n_jobs=-1)]: Done 160 out of 160 | elapsed:  1.7min finished\n"
     ]
    },
    {
     "data": {
      "text/plain": [
       "GridSearchCV(cv=5,\n",
       "             estimator=Pipeline(steps=[('cvec', CountVectorizer()),\n",
       "                                       ('dt', DecisionTreeClassifier())]),\n",
       "             n_jobs=-1,\n",
       "             param_grid={'cvec__max_df': [0.7], 'cvec__max_features': [3000],\n",
       "                         'cvec__min_df': [1, 2], 'cvec__ngram_range': [(1, 1)],\n",
       "                         'cvec__stop_words': ['english'],\n",
       "                         'dt__ccp_alpha': [0.001, 0.01],\n",
       "                         'dt__max_depth': [3, 7],\n",
       "                         'dt__min_samples_leaf': [2, 6],\n",
       "                         'dt__min_samples_split': [5, 10]},\n",
       "             verbose=1)"
      ]
     },
     "execution_count": 73,
     "metadata": {},
     "output_type": "execute_result"
    }
   ],
   "source": [
    "Xdt2 = selectedfeatures['lemtokenized']\n",
    "ydt2 = selectedfeatures['subreddit']\n",
    "Xdt2_train, Xdt2_test, ydt2_train, ydt2_test = train_test_split(Xdt2,ydt2,test_size=0.25,\n",
    "                                                    stratify=y, # Equal Proportions\n",
    "                                                    random_state=42)\n",
    "pipe= Pipeline([('cvec', CountVectorizer()),('dt', DecisionTreeClassifier())])\n",
    "\n",
    "pipe_params = {\n",
    "    'cvec__max_features': [3000],\n",
    "    'cvec__min_df': [1,2],\n",
    "    'cvec__max_df': [.70],\n",
    "    'cvec__ngram_range': [(1,1)], # one word / oneword,two words\n",
    "    'cvec__stop_words': ['english'],\n",
    "    'dt__max_depth':[3,7],\n",
    "    'dt__min_samples_split':[5, 10],\n",
    "    'dt__min_samples_leaf':[2,6],\n",
    "    'dt__ccp_alpha':[0.001,0.01]}\n",
    "\n",
    "gsdt2 = GridSearchCV(pipe, # what object are we optimizing?\n",
    "                    pipe_params, # what parameters values are we searching?\n",
    "                    cv=5, # 5-fold cross-validation.\n",
    "                    verbose=1, # communicates whats happening/ how many fits\n",
    "                    n_jobs=-1) # how many cores will go to work\n",
    "\n",
    "gsdt2.fit(Xdt2_train,ydt2_train) # Fit GridSearch to training data."
   ]
  },
  {
   "cell_type": "code",
   "execution_count": 74,
   "metadata": {
    "scrolled": true
   },
   "outputs": [
    {
     "name": "stdout",
     "output_type": "stream",
     "text": [
      "Best Estimator: Pipeline(steps=[('cvec',\n",
      "                 CountVectorizer(max_df=0.7, max_features=3000,\n",
      "                                 stop_words='english')),\n",
      "                ('dt',\n",
      "                 DecisionTreeClassifier(ccp_alpha=0.001, max_depth=7,\n",
      "                                        min_samples_leaf=2,\n",
      "                                        min_samples_split=5))])\n",
      "Grid Search Best Score: 0.74936133250354\n",
      "Grid Search CV Train Score: 0.7494219301448217\n",
      "Grid Search CV Test Score: 0.7453914947983209\n",
      "Grid Search CV Sensititivty: 0.9873115577889449\n",
      "Grid Search CV Precision: 0.6617311787913598\n",
      "Grid Search CV F1: 0.792367586477946\n",
      "Grid Search CV Roc Auc: 0.8649733838521805\n",
      "Specificity: 0.5207079646017699\n",
      "TPR: 0.9873115577889449\n",
      "FPR: 0.47929203539823007\n",
      "Best Parameters: {'cvec__max_df': 0.7, 'cvec__max_features': 3000, 'cvec__min_df': 1, 'cvec__ngram_range': (1, 1), 'cvec__stop_words': 'english', 'dt__ccp_alpha': 0.001, 'dt__max_depth': 7, 'dt__min_samples_leaf': 2, 'dt__min_samples_split': 5}\n"
     ]
    },
    {
     "data": {
      "image/png": "[encoded data removed]",
      "text/plain": [
       "<Figure size 432x288 with 2 Axes>"
      ]
     },
     "metadata": {
      "needs_background": "light"
     },
     "output_type": "display_data"
    }
   ],
   "source": [
    "print('Best Estimator:', gsdt2.best_estimator_)\n",
    "print('Grid Search Best Score:',gsdt2.best_score_)\n",
    "print('Grid Search CV Train Score:',gsdt2.score(Xdt2_train,ydt2_train))\n",
    "print('Grid Search CV Test Score:',gsdt2.score(Xdt2_test,ydt2_test))\n",
    "print('Grid Search CV Sensititivty:', cross_val_score(gsdt2.best_estimator_,Xdt2_train, ydt2_train,cv = 5,scoring='recall').mean())\n",
    "print('Grid Search CV Precision:', cross_val_score(gsdt2.best_estimator_,Xdt2_train, ydt2_train,cv = 5,scoring='precision').mean())\n",
    "print('Grid Search CV F1:', cross_val_score(gsdt2.best_estimator_,Xdt2_train, ydt2_train,cv = 5,scoring='f1').mean())\n",
    "print('Grid Search CV Roc Auc:',cross_val_score(gsdt2.best_estimator_,Xdt2_train, ydt2_train,cv = 5,scoring='roc_auc').mean())\n",
    "preds = gsdt2.predict(Xdt2_test) # Get predictions\n",
    "tn, fp, fn, tp = confusion_matrix(ydt2_test, preds).ravel() # Save confusion matrix values\n",
    "spec = tn / (tn + fp)\n",
    "print('Specificity:', spec)\n",
    "print('TPR:', cross_val_score(gsdt2.best_estimator_,Xdt2_train, ydt2_train,cv = 5,scoring='recall').mean())\n",
    "fpr = fp / (fp + tn)\n",
    "print('FPR:', fpr)\n",
    "print('Best Parameters:', gsdt2.best_params_)\n",
    "plot_confusion_matrix(gsdt2,Xdt2_test,ydt2_test,cmap='Blues',values_format='d',display_labels=['positive', 'negative']);"
   ]
  },
  {
   "cell_type": "markdown",
   "metadata": {},
   "source": [
    "## Comparison to Baseline Accuracy: Interpretation of Model 8\n",
    "Baseline Accuracy for Plurality Class is 0.51563.\n",
    "\n",
    "Model 8 Decision Tree still outperformed the Baseline Accuracy of 0.51563.\n",
    "But didn't come close to Model 1 Naive Bayes scores either. Model 8 is **high** bias since the train accuracy and test accuracy scores are just alright. The model is picking up on static and meaningless data.\n",
    "\n",
    "Model 8 is **low variance** since it predicts consistently between test and train scores. The larger the difference between the train cross validation score and the test cross validation score, the more positive one can be that the model is high variance. I tuned the hyper parameters through multiple executions of the classifier, and removed hyper parameters that didn't suit the model."
   ]
  },
  {
   "cell_type": "markdown",
   "metadata": {},
   "source": [
    "# Model 9 - Pipe / Grid / CountVectorizer / Bagging Classifier Ensemble / Tokenized"
   ]
  },
  {
   "cell_type": "code",
   "execution_count": 75,
   "metadata": {},
   "outputs": [
    {
     "data": {
      "text/html": [
       "<div>\n",
       "<style scoped>\n",
       "    .dataframe tbody tr th:only-of-type {\n",
       "        vertical-align: middle;\n",
       "    }\n",
       "\n",
       "    .dataframe tbody tr th {\n",
       "        vertical-align: top;\n",
       "    }\n",
       "\n",
       "    .dataframe thead th {\n",
       "        text-align: right;\n",
       "    }\n",
       "</style>\n",
       "<table border=\"1\" class=\"dataframe\">\n",
       "  <thead>\n",
       "    <tr style=\"text-align: right;\">\n",
       "      <th></th>\n",
       "      <th>selftext</th>\n",
       "      <th>subreddit</th>\n",
       "      <th>cleantext</th>\n",
       "      <th>cleantexttokenized</th>\n",
       "      <th>cleantexttokenizedlem</th>\n",
       "      <th>tokenized</th>\n",
       "      <th>lemtokenized</th>\n",
       "      <th>selftextwordcount</th>\n",
       "    </tr>\n",
       "  </thead>\n",
       "  <tbody>\n",
       "  </tbody>\n",
       "</table>\n",
       "</div>"
      ],
      "text/plain": [
       "Empty DataFrame\n",
       "Columns: [selftext, subreddit, cleantext, cleantexttokenized, cleantexttokenizedlem, tokenized, lemtokenized, selftextwordcount]\n",
       "Index: []"
      ]
     },
     "execution_count": 75,
     "metadata": {},
     "output_type": "execute_result"
    }
   ],
   "source": [
    "selectedfeatures.head(0)"
   ]
  },
  {
   "cell_type": "code",
   "execution_count": 76,
   "metadata": {
    "scrolled": true
   },
   "outputs": [
    {
     "name": "stdout",
     "output_type": "stream",
     "text": [
      "Fitting 5 folds for each of 64 candidates, totalling 320 fits\n"
     ]
    },
    {
     "name": "stderr",
     "output_type": "stream",
     "text": [
      "[Parallel(n_jobs=-1)]: Using backend LokyBackend with 4 concurrent workers.\n",
      "[Parallel(n_jobs=-1)]: Done  42 tasks      | elapsed:   38.3s\n",
      "[Parallel(n_jobs=-1)]: Done 192 tasks      | elapsed:  3.2min\n",
      "[Parallel(n_jobs=-1)]: Done 320 out of 320 | elapsed:  5.5min finished\n"
     ]
    },
    {
     "data": {
      "text/plain": [
       "GridSearchCV(cv=5,\n",
       "             estimator=Pipeline(steps=[('cvec', CountVectorizer()),\n",
       "                                       ('bc', BaggingClassifier())]),\n",
       "             n_jobs=-1,\n",
       "             param_grid={'bc__max_samples': [25, 35],\n",
       "                         'bc__n_estimators': [100, 150],\n",
       "                         'cvec__max_df': [0.9, 0.95],\n",
       "                         'cvec__max_features': [2500, 3000],\n",
       "                         'cvec__min_df': [9, 15], 'cvec__ngram_range': [(1, 1)],\n",
       "                         'cvec__stop_words': [None, 'english']},\n",
       "             verbose=1)"
      ]
     },
     "execution_count": 76,
     "metadata": {},
     "output_type": "execute_result"
    }
   ],
   "source": [
    "Xbc = selectedfeatures['cleantexttokenizedlem']\n",
    "ybc = selectedfeatures['subreddit']\n",
    "Xbc_train, Xbc_test, ybc_train, ybc_test = train_test_split(Xbc,ybc,test_size=0.25,\n",
    "                                                    stratify=y, # Equal Proportions\n",
    "                                                    random_state=42)\n",
    "\n",
    "pipe= Pipeline([('cvec', CountVectorizer()),('bc', BaggingClassifier())])\n",
    "\n",
    "pipe_params = {\n",
    "    'cvec__max_features': [2500, 3000],\n",
    "    'cvec__min_df': [9,15],\n",
    "    'cvec__max_df': [.90, .95],\n",
    "    'cvec__ngram_range': [(1,1)], # one word / oneword,two words\n",
    "    'cvec__stop_words': [None, 'english'],\n",
    "    'bc__n_estimators':[100,150],\n",
    "    'bc__max_samples':[25,35]}\n",
    "    \n",
    "\n",
    "gsbc = GridSearchCV(pipe, # what object are we optimizing?\n",
    "                  pipe_params, # what parameters values are we searching?\n",
    "                  cv=5, # 5-fold cross-validation.\n",
    "                  verbose=1,\n",
    "                  n_jobs=-1) \n",
    "\n",
    "# Fit GridSearch to training data.\n",
    "gsbc.fit(Xbc_train,ybc_train)"
   ]
  },
  {
   "cell_type": "code",
   "execution_count": 77,
   "metadata": {},
   "outputs": [
    {
     "name": "stdout",
     "output_type": "stream",
     "text": [
      "Best Estimator: Pipeline(steps=[('cvec',\n",
      "                 CountVectorizer(max_df=0.9, max_features=2500, min_df=15,\n",
      "                                 stop_words='english')),\n",
      "                ('bc', BaggingClassifier(max_samples=35, n_estimators=100))])\n",
      "Grid Search Best Score: 0.7809429277548305\n",
      "Grid Search CV Train Score: 0.7409030059632469\n",
      "Grid Search CV Test Score: 0.7311553203139259\n",
      "Grid Search CV Sensititivty: 0.6330402010050251\n",
      "Grid Search CV Precision: 0.9462545057431928\n",
      "Grid Search CV F1: 0.691687920171662\n",
      "Grid Search CV Roc Auc: 0.8952143432664501\n",
      "Specificity: 0.9798230088495575\n",
      "TPR: 0.6057788944723619\n",
      "FPR: 0.020176991150442476\n",
      "Best Parameters: {'bc__max_samples': 35, 'bc__n_estimators': 100, 'cvec__max_df': 0.9, 'cvec__max_features': 2500, 'cvec__min_df': 15, 'cvec__ngram_range': (1, 1), 'cvec__stop_words': 'english'}\n"
     ]
    },
    {
     "data": {
      "image/png": "[encoded data removed]",
      "text/plain": [
       "<Figure size 432x288 with 2 Axes>"
      ]
     },
     "metadata": {
      "needs_background": "light"
     },
     "output_type": "display_data"
    }
   ],
   "source": [
    "print('Best Estimator:', gsbc.best_estimator_)\n",
    "print('Grid Search Best Score:',gsbc.best_score_)\n",
    "print('Grid Search CV Train Score:',gsbc.score(Xbc_train,ybc_train))\n",
    "print('Grid Search CV Test Score:',gsbc.score(Xbc_test,ybc_test))\n",
    "print('Grid Search CV Sensititivty:', cross_val_score(gsbc.best_estimator_,Xbc_train, ybc_train,cv = 5,scoring='recall').mean())\n",
    "print('Grid Search CV Precision:', cross_val_score(gsbc.best_estimator_,Xbc_train, ybc_train,cv = 5,scoring='precision').mean())\n",
    "print('Grid Search CV F1:', cross_val_score(gsbc.best_estimator_,Xbc_train, ybc_train,cv = 5,scoring='f1').mean())\n",
    "print('Grid Search CV Roc Auc:',cross_val_score(gsbc.best_estimator_,Xbc_train, ybc_train,cv = 5,scoring='roc_auc').mean())\n",
    "preds = gsbc.predict(Xbc_test) # Get predictions\n",
    "tn, fp, fn, tp = confusion_matrix(ybc_test, preds).ravel() # Save confusion matrix values\n",
    "spec = tn / (tn + fp)\n",
    "print('Specificity:', spec)\n",
    "print('TPR:', cross_val_score(gsbc.best_estimator_,Xbc_train, ybc_train,cv = 5,scoring='recall').mean())\n",
    "fpr = fp / (fp + tn)\n",
    "print('FPR:', fpr)\n",
    "print('Best Parameters:', gsbc.best_params_)\n",
    "plot_confusion_matrix(gsbc,Xbc_test,ybc_test,cmap='Blues',values_format='d',display_labels=['positive', 'negative']);"
   ]
  },
  {
   "cell_type": "markdown",
   "metadata": {},
   "source": [
    "## Comparison to Baseline Accuracy: Interpretation of Model 9\n",
    "Baseline Accuracy for Plurality Class is 0.51563.\n",
    "\n",
    "Model 9 Bagging Classifier Ensemble still outperformed the Baseline Accuracy of 0.51563.\n",
    "But didn't come close to Model 1 Naive Bayes scores. Model 9 is **high** bias since the train accuracy and test accuracy scores are just alright. The model is picking up on static and meaningless data. Model 9 is **low variance** since it predicts consistently between test and train scores. The larger the difference between the train cross validation score and the test cross validation score, the more positive one can be that the model is overfit and is high-bias. "
   ]
  },
  {
   "cell_type": "markdown",
   "metadata": {},
   "source": [
    "# Future Choices and Models to Explore\n",
    "\n",
    "- Pipe / Grid / Random Forests / rf = RandomForestClassifier(random_state = 42)\n",
    "- Pipe / Grid / Extra Trees / et = ExtraTreesClassifier(random_state = 42)\n",
    "- Pipe / Grid / Gradient Descent\n",
    "- Pipe / Grid / AdaBoost Classifier\n",
    "- Pipe / Grid / Gradient Boosting Classifier\n",
    "- Pipe / Grid / Voting Classifier\n",
    "- Pipe / Grid / Support Vector Machines?\n",
    "- I would like to further explore more in depth data cleaning and have more time to test the models response against each iteration of data cleaning."
   ]
  },
  {
   "cell_type": "markdown",
   "metadata": {},
   "source": [
    "# Executive Summary / Evaluation  / Conceptual Understanding\n"
   ]
  },
  {
   "cell_type": "raw",
   "metadata": {},
   "source": [
    "Through a thorough and methodological approach, I believe that I have managed to build a classifier that can accurately predict the origin of text posts and state what subreddit the text came from. I tested a total of 9 model variations, but the main classifiers I tested and kept were Multinomial Naive Bayes through Pipe / Gridsearch (4), Logistic Regression through Pipe / Gridsearch (2), Decision Tree through Pipe / Gridsearch (2), and (1) Bagging Classifier Ensemble through Pipe / Gridsearch. My objective was to accurately predict the origin of a submission and assign it to either the Fallout subreddit with 1, or the No Mans Sky subreddit with 0, with above 0.90% confidence. With the first Multinomial Naive Bayes classifier, I reached 0.94 and 0.93 for the cross validated train score and the cross validated test score. \n",
    "\n",
    "The classifier properly fit to the data, and correctly adjusts well to unseen data.  \n",
    "Baseline Accuracy for Plurality Class is 0.51563. Model 1 Naive Bayes significantly outperformed the Baseline Accuracy. **Model 1 Naive Bayes scores at the top of the list with the highest performance, with 0.9364 on cross validation test.** For this model I used the CountVectorizer() in order to compare to TfidfVectorizer(). I used selftext to compare original data as X versus cleaned and lematized data as X. Model 1 is relatively **low bias** since the train accuracy and test accuracy scores are excellent. The classifier is picking up on meaningful data and assembling proper relationships. Model 1 has **low variance** since it predicts consistently between test and train scores. This shows the classifier is correctly fit and adapting to the training data. The larger the difference between the train cross validation score and the test cross validation score, the more positive one can be that the model is high variance.  \n",
    "\n",
    "Since there is only some slight difference between cross validation train scores and cross validation test scores, I am confident the classifier doesn't show much variance or bias (all models have some bias), and is properly fit.\n",
    "\n",
    "Grid Search CV Train Score: 0.9411939588536092\n",
    "Grid Search CV Test Score: 0.9364966107741706\n",
    "\n",
    "F1 score and ROC AUC score is also excellent. With a ROC AUC score of 1, the positive and negative populations are perfectly separated and the model is as good as it can get. The ROC AUC score for the first classifier and accomplished a ROC AUC score of 0.98. ROC AUC is a way os visualizing the tradeoff between sensitivity and specificity, and to comprehend how well-separated our classes are.\n",
    "\n",
    "I optimized for cross validated accuracy and sensitivity, meaning I optimized for true positives and wanted to reduce false-negatives."
   ]
  },
  {
   "cell_type": "markdown",
   "metadata": {},
   "source": [
    "# Reccomendations"
   ]
  },
  {
   "cell_type": "raw",
   "metadata": {},
   "source": [
    "As for the rest of the classifiers, generally speaking they all performed rather well. I was surprised to see the decision trees perform suboptimally, but still, every model managed to outperform the baseline accuracy being the plurality class in this case.\n",
    "\n",
    "Through the implementation of these models above, and the exploration of the many hyperparameters assigned to each model, I would strongly suggest moving forward with the Multinomibal Naive Bayes classifier through Pipeline / Gridsearch. The hyperparameters below under model 1 served me well."
   ]
  },
  {
   "cell_type": "markdown",
   "metadata": {},
   "source": [
    "# Hyper Params / Best Estimator / Classification Metrics for Comparison"
   ]
  },
  {
   "cell_type": "raw",
   "metadata": {},
   "source": [
    "Below you can find a brief outline of each models scores, parameters, inputs, and analysis.\n",
    "Since ROC/AUC, F1 score, and Accuracy score are industry standard, I encourage the reader to consider them. For my own purposes, I focussed on optimizing for Cross Validation Accuracy, Sensitivity, and sensitivity. All other scores are included for specificity and for comparability reasons.\n",
    "______________________________________________________________________________________________\n",
    "Model 1 - Pipe / Grid / CountVectorizer / MultinomialNB / Selftext\n",
    "\n",
    "Best Estimator: Pipeline(steps=[(\n",
    "'cvec',CountVectorizer(max_df=0.85, max_features=7000, min_df=3)),('nb', MultinomialNB())])\n",
    "\n",
    "Grid Search Best Score: 0.9341181557856835\n",
    "Grid Search CV Train Score: 0.9411939588536092\n",
    "Grid Search CV Test Score: 0.9364966107741706\n",
    "Grid Search CV Sensititivty: 0.919903498190591\n",
    "Grid Search CV Precision: 0.9449999030294954\n",
    "Grid Search CV F1: 0.9322676457137034\n",
    "Grid Search CV Roc Auc: 0.9855899803302913\n",
    "Specificity: 0.9472388322194865\n",
    "TPR: 0.919903498190591\n",
    "FPR: 0.05276116778051354\n",
    "______________________________________________________________________________________________\n",
    "Model 2 - Pipe / Grid / CountVectorizer / MultinomialNB / RegExTokenized\n",
    "\n",
    "Best Estimator: Pipeline(steps=[(\n",
    "'cvec',CountVectorizer(max_df=0.95, max_features=5000, min_df=15,stop_words='english')),('nb', MultinomialNB())])\n",
    "\n",
    "Grid Search Best Score: 0.9355603077543527\n",
    "Grid Search CV Train Score: 0.9418279177315322\n",
    "Grid Search CV Test Score: 0.9304617630954554\n",
    "Grid Search CV Sensititivty: 0.924748743718593\n",
    "Grid Search CV Precision: 0.9412067977866844\n",
    "Grid Search CV F1: 0.9328916304073557\n",
    "Grid Search CV Roc Auc: 0.9874967857374308\n",
    "Specificity: 0.9408849557522124\n",
    "TPR: 0.924748743718593\n",
    "FPR: 0.05911504424778761\n",
    "______________________________________________________________________________________________\n",
    "Model 3 - Pipe / Grid / TFIDf / MultinomialNB / Lemtokenized\n",
    "\n",
    "Best Estimator: Pipeline(steps=[(\n",
    "'tvec',TfidfVectorizer(max_df=0.95, max_features=4000, min_df=15)),('nb', MultinomialNB())])\n",
    "\n",
    "Grid Search Best Score: 0.9272802969151248\n",
    "Grid Search CV Train Score: 0.9382804138423118\n",
    "Grid Search CV Test Score: 0.9311452015697467\n",
    "Grid Search CV Sensititivty: 0.9218335343787697\n",
    "Grid Search CV Precision: 0.9300713603562889\n",
    "Grid Search CV F1: 0.9259175881849814\n",
    "Grid Search CV Roc Auc: 0.9820834149875439\n",
    "Specificity: 0.9345761519521633\n",
    "TPR: 0.9218335343787697\n",
    "FPR: 0.0654238480478368\n",
    "______________________________________________________________________________________________\n",
    "Model 4 - Pipe / Grid / TFIDf / MultinomialNB / Tokenized\n",
    "\n",
    "Best Estimator: Pipeline(steps=[(\n",
    "'tvec',TfidfVectorizer(max_df=0.8, max_features=5000, min_df=11,stop_words='english')),('nb', MultinomialNB())])\n",
    "\n",
    "Grid Search Best Score: 0.9323350753193059\n",
    "Grid Search CV Train Score: 0.946939272240477\n",
    "Grid Search CV Test Score: 0.9284540974630408\n",
    "Grid Search CV Sensititivty: 0.9241206030150753\n",
    "Grid Search CV Precision: 0.9354179943825545\n",
    "Grid Search CV F1: 0.9297246060907988\n",
    "Grid Search CV Roc Auc: 0.985494870034402\n",
    "Specificity: 0.9323893805309734\n",
    "TPR: 0.9241206030150753\n",
    "FPR: 0.06761061946902655\n",
    "______________________________________________________________________________________________\n",
    "Model 5 - Pipe / Grid / TF-IDF / LogisticRegression / Selftext\n",
    "\n",
    "Best Estimator: Pipeline(steps=[(\n",
    "'cvec',CountVectorizer(max_df=0.75, max_features=3000, min_df=20,\n",
    "ngram_range=(1, 2), stop_words='english')),('ss', StandardScaler(with_mean=False)),\n",
    "('lg', LogisticRegression(C=0.01, solver='liblinear'))])\n",
    "\n",
    "Grid Search Best Score: 0.9101250596930937\n",
    "Grid Search CV Train Score: 0.9454180357794816\n",
    "Grid Search CV Test Score: 0.9096550465413397\n",
    "Grid Search CV Sensititivty: 0.9076633165829145\n",
    "Grid Search CV Precision: 0.9068798482373983\n",
    "Grid Search CV F1: 0.9072561438825186\n",
    "Grid Search CV Roc Auc: 0.9732286233961546\n",
    "Specificity: 0.904070796460177\n",
    "TPR: 0.9076633165829145\n",
    "FPR: 0.09592920353982301\n",
    "______________________________________________________________________________________________\n",
    "Model 6 - Pipe / Grid / TFIDf / LogisticRegression / Lemtokenized\n",
    "\n",
    "Best Estimator: Pipeline(steps=[(\n",
    "'cvec',TfidfVectorizer(max_df=0.75, max_features=2800, min_df=2,ngram_range=(1, 2), stop_words='english')),('ss', StandardScaler(with_mean=False)),('lg', LogisticRegression(C=0.01, solver='liblinear'))])\n",
    "\n",
    "Grid Search Best Score: 0.8988679837816249\n",
    "Grid Search CV Train Score: 0.9720700985761227\n",
    "Grid Search CV Test Score: 0.9056397152765103\n",
    "Grid Search CV Sensititivty: 0.8954773869346735\n",
    "Grid Search CV Precision: 0.895704890465662\n",
    "Grid Search CV F1: 0.8955884963187488\n",
    "Grid Search CV Roc Auc: 0.96706321385532\n",
    "Specificity: 0.9026548672566371\n",
    "TPR: 0.8954773869346735\n",
    "FPR: 0.09734513274336283\n",
    "______________________________________________________________________________________________\n",
    "Model 7 - Pipe / Grid / CountVectorizer / DecisionTree / Selftext\n",
    "\n",
    "Best Estimator: Pipeline(steps=[('cvec',\n",
    "                 CountVectorizer(max_df=0.75, max_features=3000, min_df=2,\n",
    "                                 stop_words='english')),\n",
    "                ('dt',\n",
    "                 DecisionTreeClassifier(ccp_alpha=0.01, max_depth=7,\n",
    "                                        min_samples_leaf=3,\n",
    "                                        min_samples_split=7))])\n",
    "Grid Search Best Score: 0.711817130913366\n",
    "Grid Search CV Train Score: 0.711816964829013\n",
    "Grid Search CV Test Score: 0.7130863296221939\n",
    "Grid Search CV Sensititivty: 0.9953517587939699\n",
    "Grid Search CV Precision: 0.6277411715748036\n",
    "Grid Search CV F1: 0.7699081976302942\n",
    "Grid Search CV Roc Auc: 0.8234508041525832\n",
    "Specificity: 0.8913274336283186\n",
    "TPR: 0.9953517587939699\n",
    "FPR: 0.10867256637168142\n",
    "______________________________________________________________________________________________\n",
    "Model 8 - Pipe / Grid / CountVectorizer / DecisionTree / Lemtokenized\n",
    "\n",
    "Best Estimator: Pipeline(steps=[('cvec',CountVectorizer(max_df=0.7, max_features=3000,\n",
    "stop_words='english')),('dt',DecisionTreeClassifier(ccp_alpha=0.001, max_depth=7,\n",
    "min_samples_leaf=2,min_samples_split=5))])\n",
    "\n",
    "Grid Search Best Score: 0.74936133250354\n",
    "Grid Search CV Train Score: 0.7494219301448217\n",
    "Grid Search CV Test Score: 0.7453914947983209\n",
    "Grid Search CV Sensititivty: 0.9873115577889449\n",
    "Grid Search CV Precision: 0.6617311787913598\n",
    "Grid Search CV F1: 0.792367586477946\n",
    "Grid Search CV Roc Auc: 0.8649733838521805\n",
    "Specificity: 0.5207079646017699\n",
    "TPR: 0.9873115577889449\n",
    "FPR: 0.47929203539823007\n",
    "______________________________________________________________________________________________\n",
    "Model 9 - Pipe / Grid / CountVectorizer / Bagging Classifier Ensemble / Tokenized\n",
    "\n",
    "Best Estimator: Pipeline(steps=[(\n",
    "'cvec',CountVectorizer(max_df=0.95, max_features=3000, min_df=15,\n",
    "stop_words='english')),('bc', BaggingClassifier(max_samples=35, n_estimators=150))])\n",
    "\n",
    "Grid Search Best Score: 0.7809429277548305\n",
    "Grid Search CV Train Score: 0.7409030059632469\n",
    "Grid Search CV Test Score: 0.7311553203139259\n",
    "Grid Search CV Sensititivty: 0.6330402010050251\n",
    "Grid Search CV Precision: 0.9462545057431928\n",
    "Grid Search CV F1: 0.691687920171662\n",
    "Grid Search CV Roc Auc: 0.8952143432664501\n",
    "Specificity: 0.9798230088495575\n",
    "TPR: 0.6057788944723619\n",
    "FPR: 0.020176991150442476"
   ]
  }
 ],
 "metadata": {
  "kernelspec": {
   "display_name": "Python 3",
   "language": "python",
   "name": "python3"
  },
  "language_info": {
   "codemirror_mode": {
    "name": "ipython",
    "version": 3
   },
   "file_extension": ".py",
   "mimetype": "text/x-python",
   "name": "python",
   "nbconvert_exporter": "python",
   "pygments_lexer": "ipython3",
   "version": "3.8.5"
  }
 },
 "nbformat": 4,
 "nbformat_minor": 4
}
