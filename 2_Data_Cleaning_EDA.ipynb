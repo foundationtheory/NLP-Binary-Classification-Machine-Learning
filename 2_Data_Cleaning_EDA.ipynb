{
 "cells": [
  {
   "cell_type": "markdown",
   "metadata": {},
   "source": [
    "# Data Cleaning and EDA"
   ]
  },
  {
   "cell_type": "markdown",
   "metadata": {},
   "source": [
    "## Imports"
   ]
  },
  {
   "cell_type": "code",
   "execution_count": 1,
   "metadata": {},
   "outputs": [],
   "source": [
    "import warnings\n",
    "warnings.filterwarnings('ignore')"
   ]
  },
  {
   "cell_type": "code",
   "execution_count": 2,
   "metadata": {},
   "outputs": [
    {
     "name": "stderr",
     "output_type": "stream",
     "text": [
      "[nltk_data] Downloading package wordnet to /Users/ch/nltk_data...\n",
      "[nltk_data]   Package wordnet is already up-to-date!\n",
      "[nltk_data] Downloading package punkt to /Users/ch/nltk_data...\n",
      "[nltk_data]   Package punkt is already up-to-date!\n",
      "[nltk_data] Downloading package stopwords to /Users/ch/nltk_data...\n",
      "[nltk_data]   Package stopwords is already up-to-date!\n",
      "[nltk_data] Downloading package vader_lexicon to\n",
      "[nltk_data]     /Users/ch/nltk_data...\n",
      "[nltk_data]   Package vader_lexicon is already up-to-date!\n"
     ]
    }
   ],
   "source": [
    "import warnings\n",
    "warnings.filterwarnings('ignore')\n",
    "import pandas as pd\n",
    "import datetime as dt\n",
    "import time\n",
    "import requests\n",
    "import matplotlib.pyplot as plt\n",
    "import seaborn as sns\n",
    "import numpy as np\n",
    "\n",
    "from nltk.tokenize import sent_tokenize, word_tokenize, RegexpTokenizer\n",
    "from nltk.stem import WordNetLemmatizer\n",
    "from nltk.stem.porter import PorterStemmer\n",
    "from nltk.corpus import stopwords\n",
    "from nltk.sentiment.vader import SentimentIntensityAnalyzer\n",
    "import re # Python's package for RegEx (Regular Expressions)\n",
    "from sklearn.model_selection import train_test_split, GridSearchCV\n",
    "from sklearn.pipeline import Pipeline\n",
    "from sklearn.naive_bayes import MultinomialNB\n",
    "from sklearn.linear_model import LogisticRegression\n",
    "from sklearn.linear_model import LogisticRegressionCV\n",
    "from sklearn.preprocessing import StandardScaler\n",
    "from sklearn.tree import DecisionTreeClassifier\n",
    "from sklearn.model_selection import train_test_split\n",
    "from sklearn.metrics import accuracy_score\n",
    "from sklearn.ensemble import RandomForestClassifier, ExtraTreesClassifier, BaggingClassifier\n",
    "from sklearn.tree import DecisionTreeClassifier\n",
    "from sklearn import metrics\n",
    "from sklearn.metrics import confusion_matrix, plot_confusion_matrix\n",
    "import nltk\n",
    "nltk.download('wordnet')\n",
    "nltk.download('punkt')\n",
    "nltk.download('stopwords')\n",
    "nltk.download('vader_lexicon')\n",
    "from sklearn.feature_extraction.text import CountVectorizer, TfidfVectorizer\n",
    "import time\n",
    "pd.set_option('display.max_columns', None) # Displays all columns\n",
    "from sklearn.feature_extraction import text"
   ]
  },
  {
   "cell_type": "code",
   "execution_count": 3,
   "metadata": {},
   "outputs": [
    {
     "data": {
      "text/plain": [
       "'/Users/ch/Desktop/GA/Projects/project_3'"
      ]
     },
     "execution_count": 3,
     "metadata": {},
     "output_type": "execute_result"
    }
   ],
   "source": [
    "pwd!"
   ]
  },
  {
   "cell_type": "code",
   "execution_count": 4,
   "metadata": {},
   "outputs": [],
   "source": [
    "falloutresults = pd.read_csv('Datasets/falloutresults.csv', lineterminator='\\n')"
   ]
  },
  {
   "cell_type": "code",
   "execution_count": 5,
   "metadata": {},
   "outputs": [
    {
     "data": {
      "text/plain": [
       "(14625, 10)"
      ]
     },
     "execution_count": 5,
     "metadata": {},
     "output_type": "execute_result"
    }
   ],
   "source": [
    "falloutresults.shape"
   ]
  },
  {
   "cell_type": "code",
   "execution_count": 6,
   "metadata": {},
   "outputs": [],
   "source": [
    "nomansskyresults = pd.read_csv('Datasets/nomansskyresults.csv', lineterminator='\\n')"
   ]
  },
  {
   "cell_type": "code",
   "execution_count": 7,
   "metadata": {
    "scrolled": false
   },
   "outputs": [
    {
     "data": {
      "text/plain": [
       "(14876, 10)"
      ]
     },
     "execution_count": 7,
     "metadata": {},
     "output_type": "execute_result"
    }
   ],
   "source": [
    "nomansskyresults.shape"
   ]
  },
  {
   "cell_type": "code",
   "execution_count": 8,
   "metadata": {},
   "outputs": [
    {
     "data": {
      "text/html": [
       "<div>\n",
       "<style scoped>\n",
       "    .dataframe tbody tr th:only-of-type {\n",
       "        vertical-align: middle;\n",
       "    }\n",
       "\n",
       "    .dataframe tbody tr th {\n",
       "        vertical-align: top;\n",
       "    }\n",
       "\n",
       "    .dataframe thead th {\n",
       "        text-align: right;\n",
       "    }\n",
       "</style>\n",
       "<table border=\"1\" class=\"dataframe\">\n",
       "  <thead>\n",
       "    <tr style=\"text-align: right;\">\n",
       "      <th></th>\n",
       "      <th>Unnamed: 0</th>\n",
       "      <th>title</th>\n",
       "      <th>selftext</th>\n",
       "      <th>subreddit</th>\n",
       "      <th>created_utc</th>\n",
       "      <th>author</th>\n",
       "      <th>num_comments</th>\n",
       "      <th>score</th>\n",
       "      <th>is_self</th>\n",
       "      <th>timestamp</th>\n",
       "    </tr>\n",
       "  </thead>\n",
       "  <tbody>\n",
       "    <tr>\n",
       "      <th>0</th>\n",
       "      <td>0</td>\n",
       "      <td>What are your opinions on a melee only build i...</td>\n",
       "      <td>[removed]</td>\n",
       "      <td>Fallout</td>\n",
       "      <td>1610352848</td>\n",
       "      <td>ARMOREDxDUKE</td>\n",
       "      <td>16</td>\n",
       "      <td>1</td>\n",
       "      <td>True</td>\n",
       "      <td>2021-01-11</td>\n",
       "    </tr>\n",
       "  </tbody>\n",
       "</table>\n",
       "</div>"
      ],
      "text/plain": [
       "   Unnamed: 0                                              title   selftext  \\\n",
       "0           0  What are your opinions on a melee only build i...  [removed]   \n",
       "\n",
       "  subreddit  created_utc        author  num_comments  score  is_self  \\\n",
       "0   Fallout   1610352848  ARMOREDxDUKE            16      1     True   \n",
       "\n",
       "    timestamp  \n",
       "0  2021-01-11  "
      ]
     },
     "execution_count": 8,
     "metadata": {},
     "output_type": "execute_result"
    }
   ],
   "source": [
    "falloutresults.head(1)"
   ]
  },
  {
   "cell_type": "code",
   "execution_count": 9,
   "metadata": {
    "scrolled": true
   },
   "outputs": [
    {
     "data": {
      "text/html": [
       "<div>\n",
       "<style scoped>\n",
       "    .dataframe tbody tr th:only-of-type {\n",
       "        vertical-align: middle;\n",
       "    }\n",
       "\n",
       "    .dataframe tbody tr th {\n",
       "        vertical-align: top;\n",
       "    }\n",
       "\n",
       "    .dataframe thead th {\n",
       "        text-align: right;\n",
       "    }\n",
       "</style>\n",
       "<table border=\"1\" class=\"dataframe\">\n",
       "  <thead>\n",
       "    <tr style=\"text-align: right;\">\n",
       "      <th></th>\n",
       "      <th>Unnamed: 0</th>\n",
       "      <th>title</th>\n",
       "      <th>selftext</th>\n",
       "      <th>subreddit</th>\n",
       "      <th>created_utc</th>\n",
       "      <th>author</th>\n",
       "      <th>num_comments</th>\n",
       "      <th>score</th>\n",
       "      <th>is_self</th>\n",
       "      <th>timestamp</th>\n",
       "    </tr>\n",
       "  </thead>\n",
       "  <tbody>\n",
       "    <tr>\n",
       "      <th>0</th>\n",
       "      <td>0</td>\n",
       "      <td>Help with hyperdrive mission</td>\n",
       "      <td>So I just got the hyperdrive and used it for t...</td>\n",
       "      <td>NoMansSkyTheGame</td>\n",
       "      <td>1611045501</td>\n",
       "      <td>ItzMattata</td>\n",
       "      <td>9</td>\n",
       "      <td>1</td>\n",
       "      <td>True</td>\n",
       "      <td>2021-01-19</td>\n",
       "    </tr>\n",
       "  </tbody>\n",
       "</table>\n",
       "</div>"
      ],
      "text/plain": [
       "   Unnamed: 0                         title  \\\n",
       "0           0  Help with hyperdrive mission   \n",
       "\n",
       "                                            selftext         subreddit  \\\n",
       "0  So I just got the hyperdrive and used it for t...  NoMansSkyTheGame   \n",
       "\n",
       "   created_utc      author  num_comments  score  is_self   timestamp  \n",
       "0   1611045501  ItzMattata             9      1     True  2021-01-19  "
      ]
     },
     "execution_count": 9,
     "metadata": {},
     "output_type": "execute_result"
    }
   ],
   "source": [
    "nomansskyresults.head(1)"
   ]
  },
  {
   "cell_type": "code",
   "execution_count": 10,
   "metadata": {},
   "outputs": [],
   "source": [
    "bothsets = pd.concat([falloutresults, nomansskyresults], axis=0)"
   ]
  },
  {
   "cell_type": "code",
   "execution_count": 11,
   "metadata": {
    "scrolled": true
   },
   "outputs": [
    {
     "data": {
      "text/plain": [
       "is_self    29501\n",
       "dtype: int64"
      ]
     },
     "execution_count": 11,
     "metadata": {},
     "output_type": "execute_result"
    }
   ],
   "source": [
    "bothsets[['is_self']].sum()"
   ]
  },
  {
   "cell_type": "code",
   "execution_count": 12,
   "metadata": {},
   "outputs": [],
   "source": [
    "# Drop Columns\n",
    "bothsets = bothsets.drop(columns = ['Unnamed: 0','is_self'])"
   ]
  },
  {
   "cell_type": "code",
   "execution_count": 13,
   "metadata": {},
   "outputs": [],
   "source": [
    "bothsets['selftextlength'] = bothsets['selftext'].str.len()\n",
    "falloutresults['selftextlength'] = falloutresults['selftext'].str.len()\n",
    "nomansskyresults['selftextlength'] = nomansskyresults['selftext'].str.len()"
   ]
  },
  {
   "cell_type": "code",
   "execution_count": 14,
   "metadata": {
    "scrolled": true
   },
   "outputs": [
    {
     "data": {
      "text/html": [
       "<div>\n",
       "<style scoped>\n",
       "    .dataframe tbody tr th:only-of-type {\n",
       "        vertical-align: middle;\n",
       "    }\n",
       "\n",
       "    .dataframe tbody tr th {\n",
       "        vertical-align: top;\n",
       "    }\n",
       "\n",
       "    .dataframe thead th {\n",
       "        text-align: right;\n",
       "    }\n",
       "</style>\n",
       "<table border=\"1\" class=\"dataframe\">\n",
       "  <thead>\n",
       "    <tr style=\"text-align: right;\">\n",
       "      <th></th>\n",
       "      <th>title</th>\n",
       "      <th>selftext</th>\n",
       "      <th>subreddit</th>\n",
       "      <th>created_utc</th>\n",
       "      <th>author</th>\n",
       "      <th>num_comments</th>\n",
       "      <th>score</th>\n",
       "      <th>timestamp</th>\n",
       "      <th>selftextlength</th>\n",
       "    </tr>\n",
       "  </thead>\n",
       "  <tbody>\n",
       "    <tr>\n",
       "      <th>0</th>\n",
       "      <td>What are your opinions on a melee only build i...</td>\n",
       "      <td>[removed]</td>\n",
       "      <td>Fallout</td>\n",
       "      <td>1610352848</td>\n",
       "      <td>ARMOREDxDUKE</td>\n",
       "      <td>16</td>\n",
       "      <td>1</td>\n",
       "      <td>2021-01-11</td>\n",
       "      <td>9.0</td>\n",
       "    </tr>\n",
       "  </tbody>\n",
       "</table>\n",
       "</div>"
      ],
      "text/plain": [
       "                                               title   selftext subreddit  \\\n",
       "0  What are your opinions on a melee only build i...  [removed]   Fallout   \n",
       "\n",
       "   created_utc        author  num_comments  score   timestamp  selftextlength  \n",
       "0   1610352848  ARMOREDxDUKE            16      1  2021-01-11             9.0  "
      ]
     },
     "execution_count": 14,
     "metadata": {},
     "output_type": "execute_result"
    }
   ],
   "source": [
    "bothsets.head(1)"
   ]
  },
  {
   "cell_type": "code",
   "execution_count": 15,
   "metadata": {
    "scrolled": true
   },
   "outputs": [
    {
     "data": {
      "text/plain": [
       "NoMansSkyTheGame    14876\n",
       "Fallout             14625\n",
       "Name: subreddit, dtype: int64"
      ]
     },
     "execution_count": 15,
     "metadata": {},
     "output_type": "execute_result"
    }
   ],
   "source": [
    "bothsets['subreddit'].value_counts()"
   ]
  },
  {
   "cell_type": "code",
   "execution_count": 16,
   "metadata": {},
   "outputs": [],
   "source": [
    "bothsets['selftextwordcount'] = bothsets['selftext'].str.split().str.len()\n",
    "falloutresults['selftextwordcount'] = falloutresults['selftext'].str.split().str.len()\n",
    "nomansskyresults['selftextwordcount'] = nomansskyresults['selftext'].str.split().str.len()"
   ]
  },
  {
   "cell_type": "code",
   "execution_count": 17,
   "metadata": {
    "scrolled": true
   },
   "outputs": [
    {
     "data": {
      "text/html": [
       "<div>\n",
       "<style scoped>\n",
       "    .dataframe tbody tr th:only-of-type {\n",
       "        vertical-align: middle;\n",
       "    }\n",
       "\n",
       "    .dataframe tbody tr th {\n",
       "        vertical-align: top;\n",
       "    }\n",
       "\n",
       "    .dataframe thead th {\n",
       "        text-align: right;\n",
       "    }\n",
       "</style>\n",
       "<table border=\"1\" class=\"dataframe\">\n",
       "  <thead>\n",
       "    <tr style=\"text-align: right;\">\n",
       "      <th></th>\n",
       "      <th>title</th>\n",
       "      <th>selftext</th>\n",
       "      <th>subreddit</th>\n",
       "      <th>created_utc</th>\n",
       "      <th>author</th>\n",
       "      <th>num_comments</th>\n",
       "      <th>score</th>\n",
       "      <th>timestamp</th>\n",
       "      <th>selftextlength</th>\n",
       "      <th>selftextwordcount</th>\n",
       "    </tr>\n",
       "  </thead>\n",
       "  <tbody>\n",
       "    <tr>\n",
       "      <th>14260</th>\n",
       "      <td>what if opportunity time is actually todd howa...</td>\n",
       "      <td></td>\n",
       "      <td>Fallout</td>\n",
       "      <td>1413498799</td>\n",
       "      <td>LuigiIsFamos</td>\n",
       "      <td>11</td>\n",
       "      <td>0</td>\n",
       "      <td>2014-10-16</td>\n",
       "      <td>1.0</td>\n",
       "      <td>0.0</td>\n",
       "    </tr>\n",
       "    <tr>\n",
       "      <th>4306</th>\n",
       "      <td>[PS4] W: Your maps H: Caps. Im doing a treasur...</td>\n",
       "      <td>\\n</td>\n",
       "      <td>Fallout</td>\n",
       "      <td>1554633721</td>\n",
       "      <td>DaveeBhoy</td>\n",
       "      <td>0</td>\n",
       "      <td>0</td>\n",
       "      <td>2019-04-07</td>\n",
       "      <td>1.0</td>\n",
       "      <td>0.0</td>\n",
       "    </tr>\n",
       "    <tr>\n",
       "      <th>0</th>\n",
       "      <td>What are your opinions on a melee only build i...</td>\n",
       "      <td>[removed]</td>\n",
       "      <td>Fallout</td>\n",
       "      <td>1610352848</td>\n",
       "      <td>ARMOREDxDUKE</td>\n",
       "      <td>16</td>\n",
       "      <td>1</td>\n",
       "      <td>2021-01-11</td>\n",
       "      <td>9.0</td>\n",
       "      <td>1.0</td>\n",
       "    </tr>\n",
       "    <tr>\n",
       "      <th>7971</th>\n",
       "      <td>I found a reference that is either coincidenta...</td>\n",
       "      <td>[deleted]</td>\n",
       "      <td>Fallout</td>\n",
       "      <td>1506715665</td>\n",
       "      <td>[deleted]</td>\n",
       "      <td>0</td>\n",
       "      <td>1</td>\n",
       "      <td>2017-09-29</td>\n",
       "      <td>9.0</td>\n",
       "      <td>1.0</td>\n",
       "    </tr>\n",
       "    <tr>\n",
       "      <th>11176</th>\n",
       "      <td>No Mans Sky's \"Procedually generated\" planets ...</td>\n",
       "      <td>[deleted]</td>\n",
       "      <td>NoMansSkyTheGame</td>\n",
       "      <td>1464732180</td>\n",
       "      <td>[deleted]</td>\n",
       "      <td>6</td>\n",
       "      <td>0</td>\n",
       "      <td>2016-05-31</td>\n",
       "      <td>9.0</td>\n",
       "      <td>1.0</td>\n",
       "    </tr>\n",
       "    <tr>\n",
       "      <th>14815</th>\n",
       "      <td>This is good news.</td>\n",
       "      <td>NaN</td>\n",
       "      <td>NoMansSkyTheGame</td>\n",
       "      <td>1430348331</td>\n",
       "      <td>[deleted]</td>\n",
       "      <td>0</td>\n",
       "      <td>1</td>\n",
       "      <td>2015-04-29</td>\n",
       "      <td>NaN</td>\n",
       "      <td>NaN</td>\n",
       "    </tr>\n",
       "    <tr>\n",
       "      <th>14831</th>\n",
       "      <td>This is absolutely ridiculous!</td>\n",
       "      <td>NaN</td>\n",
       "      <td>NoMansSkyTheGame</td>\n",
       "      <td>1430504435</td>\n",
       "      <td>[deleted]</td>\n",
       "      <td>7</td>\n",
       "      <td>1</td>\n",
       "      <td>2015-05-01</td>\n",
       "      <td>NaN</td>\n",
       "      <td>NaN</td>\n",
       "    </tr>\n",
       "    <tr>\n",
       "      <th>14832</th>\n",
       "      <td>a kind of release data ?</td>\n",
       "      <td>NaN</td>\n",
       "      <td>NoMansSkyTheGame</td>\n",
       "      <td>1430519181</td>\n",
       "      <td>andre1112</td>\n",
       "      <td>11</td>\n",
       "      <td>0</td>\n",
       "      <td>2015-05-01</td>\n",
       "      <td>NaN</td>\n",
       "      <td>NaN</td>\n",
       "    </tr>\n",
       "    <tr>\n",
       "      <th>14856</th>\n",
       "      <td>Considering Buying...</td>\n",
       "      <td>NaN</td>\n",
       "      <td>NoMansSkyTheGame</td>\n",
       "      <td>1430675229</td>\n",
       "      <td>HoneyBadger08</td>\n",
       "      <td>9</td>\n",
       "      <td>0</td>\n",
       "      <td>2015-05-03</td>\n",
       "      <td>NaN</td>\n",
       "      <td>NaN</td>\n",
       "    </tr>\n",
       "    <tr>\n",
       "      <th>14858</th>\n",
       "      <td>How can we get Sean Murray to put the soundtra...</td>\n",
       "      <td>NaN</td>\n",
       "      <td>NoMansSkyTheGame</td>\n",
       "      <td>1430681323</td>\n",
       "      <td>PickleSchmere</td>\n",
       "      <td>13</td>\n",
       "      <td>0</td>\n",
       "      <td>2015-05-03</td>\n",
       "      <td>NaN</td>\n",
       "      <td>NaN</td>\n",
       "    </tr>\n",
       "  </tbody>\n",
       "</table>\n",
       "</div>"
      ],
      "text/plain": [
       "                                                   title   selftext  \\\n",
       "14260  what if opportunity time is actually todd howa...              \n",
       "4306   [PS4] W: Your maps H: Caps. Im doing a treasur...         \\n   \n",
       "0      What are your opinions on a melee only build i...  [removed]   \n",
       "7971   I found a reference that is either coincidenta...  [deleted]   \n",
       "11176  No Mans Sky's \"Procedually generated\" planets ...  [deleted]   \n",
       "14815                                 This is good news.        NaN   \n",
       "14831                     This is absolutely ridiculous!        NaN   \n",
       "14832                           a kind of release data ?        NaN   \n",
       "14856                              Considering Buying...        NaN   \n",
       "14858  How can we get Sean Murray to put the soundtra...        NaN   \n",
       "\n",
       "              subreddit  created_utc         author  num_comments  score  \\\n",
       "14260           Fallout   1413498799   LuigiIsFamos            11      0   \n",
       "4306            Fallout   1554633721      DaveeBhoy             0      0   \n",
       "0               Fallout   1610352848   ARMOREDxDUKE            16      1   \n",
       "7971            Fallout   1506715665      [deleted]             0      1   \n",
       "11176  NoMansSkyTheGame   1464732180      [deleted]             6      0   \n",
       "14815  NoMansSkyTheGame   1430348331      [deleted]             0      1   \n",
       "14831  NoMansSkyTheGame   1430504435      [deleted]             7      1   \n",
       "14832  NoMansSkyTheGame   1430519181      andre1112            11      0   \n",
       "14856  NoMansSkyTheGame   1430675229  HoneyBadger08             9      0   \n",
       "14858  NoMansSkyTheGame   1430681323  PickleSchmere            13      0   \n",
       "\n",
       "        timestamp  selftextlength  selftextwordcount  \n",
       "14260  2014-10-16             1.0                0.0  \n",
       "4306   2019-04-07             1.0                0.0  \n",
       "0      2021-01-11             9.0                1.0  \n",
       "7971   2017-09-29             9.0                1.0  \n",
       "11176  2016-05-31             9.0                1.0  \n",
       "14815  2015-04-29             NaN                NaN  \n",
       "14831  2015-05-01             NaN                NaN  \n",
       "14832  2015-05-01             NaN                NaN  \n",
       "14856  2015-05-03             NaN                NaN  \n",
       "14858  2015-05-03             NaN                NaN  "
      ]
     },
     "execution_count": 17,
     "metadata": {},
     "output_type": "execute_result"
    }
   ],
   "source": [
    "bothsets.sort_values('selftextwordcount',ascending=True).head(5).append(bothsets.sort_values('selftextwordcount',ascending=True).tail(5))"
   ]
  },
  {
   "cell_type": "code",
   "execution_count": 18,
   "metadata": {
    "scrolled": true
   },
   "outputs": [
    {
     "data": {
      "text/plain": [
       "[removed]                                                                                                                                                                                                                                                                                                                                                                                                                                                                                                                                                                                                                                                                                          3951\n",
       "[deleted]                                                                                                                                                                                                                                                                                                                                                                                                                                                                                                                                                                                                                                                                                          1280\n",
       "Hello Interlopers! This is a Bi-Weekly Megathread for the purpose of posting any questions you may have about the game, and receive answers from the community! \\n\\n---\\n\\n- **Keep it civil. Subreddit rules apply**\\n\\n- **Please only submit questions you have about the game**\\n\\n- **If no one can answer your question, ask /u/Ket-. He knows everything**\\n\\n---\\n\\nAsk away, Interlopers!\\n\\n---\\n                                                                                                                                                                                                                                                                                          25\n",
       "Hello Interlopers! This is a Bi-Weekly Megathread for the purpose of posting any questions you may have about the game, and receive answers from the community! \\n\\n---\\n\\n- **Keep it civil. Subreddit rules apply**\\n\\n- **Please only submit questions you have about the game**\\n\\n---\\n\\nAsk away, Interlopers!\\n\\n---                                                                                                                                                                                                                                                                                                                                                                          19\n",
       "Title                                                                                                                                                                                                                                                                                                                                                                                                                                                                                                                                                                                                                                                                                                16\n",
       "                                                                                                                                                                                                                                                                                                                                                                                                                                                                                                                                                                                                                                                                                                   ... \n",
       "Hello Fellow Wastelanders,\\n\\nI finally released an early version of my mod Raider Gangs Extended for Fallout 4. This mod attempts to address some aspects of the original game while livening up the overall raider experience.\\n\\nI hope you enjoy the trailer and the mod should you choose to try it in your own game.\\n\\n [https://www.youtube.com/watch?v=TI1jcs14kAk](https://www.youtube.com/watch?v=TI1jcs14kAk)                                                                                                                                                                                                                                                                             1\n",
       "I have a MacBook Pro (15\" i7). My specs are fine (if I was maybe running in dual boot), but I prefer to use parallels. Has anyone here tried this? Does it run ok?                                                                                                                                                                                                                                                                                                                                                                                                                                                                                                                                    1\n",
       "So I’ve been playing for some time and I was progressing through the main storyline I met Artemis on a holo terminus and Apollo as-well but for some reason after I spoke to Apollo he told me to go speak up a contact that he located but I was stumped because his contact wasn’t apparent this got me stick for a while searching solutions online all of the past few days and I found solutions saying buy the cylindrical room from the blueprint analyzer at the space anomaly. I of-course did this and it didn’t work for god knows what reason possibly a new update that changed how the mission worked but I was just hoping someone could help I’ve been stuck for so long now :(       1\n",
       "Hello guys,\\n\\n\\nI left my game and was sure to save the edits made to my base (meaning I went into my ship and left to autosave). When I came back online, the base disappeared. The only thing that stayed were the terminals I moved. The structure of the base (cuboid rooms, etc.) did not reappear. I didn’t connect power to the building before I left. How can I prevent this from happening in the future? Even though I didn’t lose a ton of progress, it was still disheartening to see the resources I used disappear into thin air. \\n\\nThanks a lot!                                                                                                                                   1\n",
       "Since I'm shitty at video editing, it would be cool if someone did a \"sound of silence\" video to Sean Murray/Hello Games                                                                                                                                                                                                                                                                                                                                                                                                                                                                                                                                                                              1\n",
       "Name: selftext, Length: 22668, dtype: int64"
      ]
     },
     "execution_count": 18,
     "metadata": {},
     "output_type": "execute_result"
    }
   ],
   "source": [
    "bothsets['selftext'].value_counts(ascending=False)"
   ]
  },
  {
   "cell_type": "raw",
   "metadata": {},
   "source": [
    "Bothsets Issues to be Addressed:\n",
    "[removed] in selftext 3951\n",
    "[deleted] in selftext 1280"
   ]
  },
  {
   "cell_type": "code",
   "execution_count": 19,
   "metadata": {
    "scrolled": true
   },
   "outputs": [
    {
     "name": "stdout",
     "output_type": "stream",
     "text": [
      "(14625, 12)\n"
     ]
    },
    {
     "data": {
      "text/plain": [
       "(10829,)"
      ]
     },
     "execution_count": 19,
     "metadata": {},
     "output_type": "execute_result"
    }
   ],
   "source": [
    "print(falloutresults.shape)\n",
    "uniqueauthorsfallout = falloutresults['author'].value_counts().shape\n",
    "uniqueauthorsfallout"
   ]
  },
  {
   "cell_type": "code",
   "execution_count": 20,
   "metadata": {},
   "outputs": [
    {
     "name": "stdout",
     "output_type": "stream",
     "text": [
      "(14876, 12)\n"
     ]
    },
    {
     "data": {
      "text/plain": [
       "(9519,)"
      ]
     },
     "execution_count": 20,
     "metadata": {},
     "output_type": "execute_result"
    }
   ],
   "source": [
    "print(nomansskyresults.shape)\n",
    "uniqueauthorsnomans = nomansskyresults['author'].value_counts().shape\n",
    "uniqueauthorsnomans"
   ]
  },
  {
   "cell_type": "code",
   "execution_count": 21,
   "metadata": {
    "scrolled": true
   },
   "outputs": [
    {
     "data": {
      "text/plain": [
       "title                 object\n",
       "selftext              object\n",
       "subreddit             object\n",
       "created_utc            int64\n",
       "author                object\n",
       "num_comments           int64\n",
       "score                  int64\n",
       "timestamp             object\n",
       "selftextlength       float64\n",
       "selftextwordcount    float64\n",
       "dtype: object"
      ]
     },
     "execution_count": 21,
     "metadata": {},
     "output_type": "execute_result"
    }
   ],
   "source": [
    "bothsets.dtypes"
   ]
  },
  {
   "cell_type": "code",
   "execution_count": 22,
   "metadata": {
    "scrolled": true
   },
   "outputs": [
    {
     "data": {
      "text/plain": [
       "title                   0\n",
       "selftext             1425\n",
       "subreddit               0\n",
       "created_utc             0\n",
       "author                  0\n",
       "num_comments            0\n",
       "score                   0\n",
       "timestamp               0\n",
       "selftextlength       1425\n",
       "selftextwordcount    1425\n",
       "dtype: int64"
      ]
     },
     "execution_count": 22,
     "metadata": {},
     "output_type": "execute_result"
    }
   ],
   "source": [
    "bothsets.isnull().sum()"
   ]
  },
  {
   "cell_type": "code",
   "execution_count": 23,
   "metadata": {},
   "outputs": [],
   "source": [
    "def substituteincolumn(column): # Handles strange observations\n",
    "        bothsets[column].replace('[deleted]', np.nan, inplace = True)\n",
    "        bothsets[column].replace('[removed]', np.nan, inplace = True)\n",
    "substituteincolumn('selftext')\n",
    "substituteincolumn('selftextlength')\n",
    "substituteincolumn('selftextwordcount')\n",
    "substituteincolumn('author')"
   ]
  },
  {
   "cell_type": "code",
   "execution_count": 24,
   "metadata": {},
   "outputs": [
    {
     "data": {
      "text/plain": [
       "title                   0\n",
       "selftext             6656\n",
       "subreddit               0\n",
       "created_utc             0\n",
       "author               2240\n",
       "num_comments            0\n",
       "score                   0\n",
       "timestamp               0\n",
       "selftextlength       1425\n",
       "selftextwordcount    1425\n",
       "dtype: int64"
      ]
     },
     "execution_count": 24,
     "metadata": {},
     "output_type": "execute_result"
    }
   ],
   "source": [
    "bothsets.isnull().sum()"
   ]
  },
  {
   "cell_type": "code",
   "execution_count": 25,
   "metadata": {},
   "outputs": [
    {
     "data": {
      "text/plain": [
       "(29501, 10)"
      ]
     },
     "execution_count": 25,
     "metadata": {},
     "output_type": "execute_result"
    }
   ],
   "source": [
    "bothsets.shape"
   ]
  },
  {
   "cell_type": "code",
   "execution_count": 26,
   "metadata": {},
   "outputs": [
    {
     "name": "stdout",
     "output_type": "stream",
     "text": [
      "(22436, 10)\n"
     ]
    }
   ],
   "source": [
    "bothsets.dropna(inplace=True)\n",
    "print(bothsets.shape)"
   ]
  },
  {
   "cell_type": "code",
   "execution_count": 27,
   "metadata": {},
   "outputs": [
    {
     "data": {
      "text/plain": [
       "title                0\n",
       "selftext             0\n",
       "subreddit            0\n",
       "created_utc          0\n",
       "author               0\n",
       "num_comments         0\n",
       "score                0\n",
       "timestamp            0\n",
       "selftextlength       0\n",
       "selftextwordcount    0\n",
       "dtype: int64"
      ]
     },
     "execution_count": 27,
     "metadata": {},
     "output_type": "execute_result"
    }
   ],
   "source": [
    "bothsets.isnull().sum()"
   ]
  },
  {
   "cell_type": "code",
   "execution_count": 28,
   "metadata": {
    "scrolled": true
   },
   "outputs": [
    {
     "data": {
      "text/html": [
       "<div>\n",
       "<style scoped>\n",
       "    .dataframe tbody tr th:only-of-type {\n",
       "        vertical-align: middle;\n",
       "    }\n",
       "\n",
       "    .dataframe tbody tr th {\n",
       "        vertical-align: top;\n",
       "    }\n",
       "\n",
       "    .dataframe thead th {\n",
       "        text-align: right;\n",
       "    }\n",
       "</style>\n",
       "<table border=\"1\" class=\"dataframe\">\n",
       "  <thead>\n",
       "    <tr style=\"text-align: right;\">\n",
       "      <th></th>\n",
       "      <th>title</th>\n",
       "      <th>selftext</th>\n",
       "      <th>subreddit</th>\n",
       "      <th>created_utc</th>\n",
       "      <th>author</th>\n",
       "      <th>num_comments</th>\n",
       "      <th>score</th>\n",
       "      <th>timestamp</th>\n",
       "      <th>selftextlength</th>\n",
       "      <th>selftextwordcount</th>\n",
       "    </tr>\n",
       "  </thead>\n",
       "  <tbody>\n",
       "    <tr>\n",
       "      <th>4306</th>\n",
       "      <td>[PS4] W: Your maps H: Caps. Im doing a treasur...</td>\n",
       "      <td>\\n</td>\n",
       "      <td>Fallout</td>\n",
       "      <td>1554633721</td>\n",
       "      <td>DaveeBhoy</td>\n",
       "      <td>0</td>\n",
       "      <td>0</td>\n",
       "      <td>2019-04-07</td>\n",
       "      <td>1.0</td>\n",
       "      <td>0.0</td>\n",
       "    </tr>\n",
       "    <tr>\n",
       "      <th>14260</th>\n",
       "      <td>what if opportunity time is actually todd howa...</td>\n",
       "      <td></td>\n",
       "      <td>Fallout</td>\n",
       "      <td>1413498799</td>\n",
       "      <td>LuigiIsFamos</td>\n",
       "      <td>11</td>\n",
       "      <td>0</td>\n",
       "      <td>2014-10-16</td>\n",
       "      <td>1.0</td>\n",
       "      <td>0.0</td>\n",
       "    </tr>\n",
       "    <tr>\n",
       "      <th>6515</th>\n",
       "      <td>Any way to get an atlas pass this late into wa...</td>\n",
       "      <td>Title</td>\n",
       "      <td>NoMansSkyTheGame</td>\n",
       "      <td>1519156888</td>\n",
       "      <td>DjDyzzi</td>\n",
       "      <td>14</td>\n",
       "      <td>2</td>\n",
       "      <td>2018-02-20</td>\n",
       "      <td>5.0</td>\n",
       "      <td>1.0</td>\n",
       "    </tr>\n",
       "    <tr>\n",
       "      <th>6536</th>\n",
       "      <td>Follow the Stream of P0ne - Through the multiv...</td>\n",
       "      <td>https://nomanssky.gamepedia.com/Stream_of_P0ne</td>\n",
       "      <td>NoMansSkyTheGame</td>\n",
       "      <td>1519239922</td>\n",
       "      <td>P0nestream</td>\n",
       "      <td>0</td>\n",
       "      <td>0</td>\n",
       "      <td>2018-02-21</td>\n",
       "      <td>46.0</td>\n",
       "      <td>1.0</td>\n",
       "    </tr>\n",
       "    <tr>\n",
       "      <th>11126</th>\n",
       "      <td>I think this will keep the undesirables out of...</td>\n",
       "      <td>[Imgur](http://i.imgur.com/zDcEWoR.png?1)</td>\n",
       "      <td>Fallout</td>\n",
       "      <td>1466542462</td>\n",
       "      <td>Badfish1300</td>\n",
       "      <td>14</td>\n",
       "      <td>12</td>\n",
       "      <td>2016-06-21</td>\n",
       "      <td>41.0</td>\n",
       "      <td>1.0</td>\n",
       "    </tr>\n",
       "    <tr>\n",
       "      <th>988</th>\n",
       "      <td>An estimation of the size of the Legion.</td>\n",
       "      <td>This has been a subject of debate ever since F...</td>\n",
       "      <td>Fallout</td>\n",
       "      <td>1598780667</td>\n",
       "      <td>GodBlessTheNCR316</td>\n",
       "      <td>9</td>\n",
       "      <td>1</td>\n",
       "      <td>2020-08-30</td>\n",
       "      <td>34670.0</td>\n",
       "      <td>5641.0</td>\n",
       "    </tr>\n",
       "    <tr>\n",
       "      <th>526</th>\n",
       "      <td>After 10 years, here’s my (mostly complete) Fa...</td>\n",
       "      <td>Hello all. With the 10-year anniversary of Fal...</td>\n",
       "      <td>Fallout</td>\n",
       "      <td>1603897481</td>\n",
       "      <td>UpgradeTech</td>\n",
       "      <td>6</td>\n",
       "      <td>1</td>\n",
       "      <td>2020-10-28</td>\n",
       "      <td>38187.0</td>\n",
       "      <td>5910.0</td>\n",
       "    </tr>\n",
       "    <tr>\n",
       "      <th>7027</th>\n",
       "      <td>Fallout Fanfic. Not finished.</td>\n",
       "      <td>NOTE TO READER -----&amp;gt; LOOK! This is not fin...</td>\n",
       "      <td>Fallout</td>\n",
       "      <td>1519761552</td>\n",
       "      <td>IvyNightFall</td>\n",
       "      <td>1</td>\n",
       "      <td>4</td>\n",
       "      <td>2018-02-27</td>\n",
       "      <td>34499.0</td>\n",
       "      <td>6178.0</td>\n",
       "    </tr>\n",
       "    <tr>\n",
       "      <th>11734</th>\n",
       "      <td>“What do you do in No Man’s Sky?” and other qu...</td>\n",
       "      <td>(Note: This is a vastly expanded upon revision...</td>\n",
       "      <td>NoMansSkyTheGame</td>\n",
       "      <td>1459888689</td>\n",
       "      <td>TheSeaOfThySoul</td>\n",
       "      <td>814</td>\n",
       "      <td>2515</td>\n",
       "      <td>2016-04-05</td>\n",
       "      <td>35785.0</td>\n",
       "      <td>6220.0</td>\n",
       "    </tr>\n",
       "    <tr>\n",
       "      <th>985</th>\n",
       "      <td>Why the NCR can more than easily defeat the Le...</td>\n",
       "      <td>As stated above, the following analysis will a...</td>\n",
       "      <td>Fallout</td>\n",
       "      <td>1598773517</td>\n",
       "      <td>GodBlessTheNCR316</td>\n",
       "      <td>78</td>\n",
       "      <td>1</td>\n",
       "      <td>2020-08-30</td>\n",
       "      <td>39659.0</td>\n",
       "      <td>6372.0</td>\n",
       "    </tr>\n",
       "  </tbody>\n",
       "</table>\n",
       "</div>"
      ],
      "text/plain": [
       "                                                   title  \\\n",
       "4306   [PS4] W: Your maps H: Caps. Im doing a treasur...   \n",
       "14260  what if opportunity time is actually todd howa...   \n",
       "6515   Any way to get an atlas pass this late into wa...   \n",
       "6536   Follow the Stream of P0ne - Through the multiv...   \n",
       "11126  I think this will keep the undesirables out of...   \n",
       "988             An estimation of the size of the Legion.   \n",
       "526    After 10 years, here’s my (mostly complete) Fa...   \n",
       "7027                       Fallout Fanfic. Not finished.   \n",
       "11734  “What do you do in No Man’s Sky?” and other qu...   \n",
       "985    Why the NCR can more than easily defeat the Le...   \n",
       "\n",
       "                                                selftext         subreddit  \\\n",
       "4306                                                  \\n           Fallout   \n",
       "14260                                                              Fallout   \n",
       "6515                                               Title  NoMansSkyTheGame   \n",
       "6536      https://nomanssky.gamepedia.com/Stream_of_P0ne  NoMansSkyTheGame   \n",
       "11126          [Imgur](http://i.imgur.com/zDcEWoR.png?1)           Fallout   \n",
       "988    This has been a subject of debate ever since F...           Fallout   \n",
       "526    Hello all. With the 10-year anniversary of Fal...           Fallout   \n",
       "7027   NOTE TO READER -----&gt; LOOK! This is not fin...           Fallout   \n",
       "11734  (Note: This is a vastly expanded upon revision...  NoMansSkyTheGame   \n",
       "985    As stated above, the following analysis will a...           Fallout   \n",
       "\n",
       "       created_utc             author  num_comments  score   timestamp  \\\n",
       "4306    1554633721          DaveeBhoy             0      0  2019-04-07   \n",
       "14260   1413498799       LuigiIsFamos            11      0  2014-10-16   \n",
       "6515    1519156888            DjDyzzi            14      2  2018-02-20   \n",
       "6536    1519239922         P0nestream             0      0  2018-02-21   \n",
       "11126   1466542462        Badfish1300            14     12  2016-06-21   \n",
       "988     1598780667  GodBlessTheNCR316             9      1  2020-08-30   \n",
       "526     1603897481        UpgradeTech             6      1  2020-10-28   \n",
       "7027    1519761552       IvyNightFall             1      4  2018-02-27   \n",
       "11734   1459888689    TheSeaOfThySoul           814   2515  2016-04-05   \n",
       "985     1598773517  GodBlessTheNCR316            78      1  2020-08-30   \n",
       "\n",
       "       selftextlength  selftextwordcount  \n",
       "4306              1.0                0.0  \n",
       "14260             1.0                0.0  \n",
       "6515              5.0                1.0  \n",
       "6536             46.0                1.0  \n",
       "11126            41.0                1.0  \n",
       "988           34670.0             5641.0  \n",
       "526           38187.0             5910.0  \n",
       "7027          34499.0             6178.0  \n",
       "11734         35785.0             6220.0  \n",
       "985           39659.0             6372.0  "
      ]
     },
     "execution_count": 28,
     "metadata": {},
     "output_type": "execute_result"
    }
   ],
   "source": [
    "bothsets.sort_values('selftextwordcount',ascending=True).head(5).append(bothsets.sort_values('selftextwordcount',ascending=True).tail(5))"
   ]
  },
  {
   "cell_type": "code",
   "execution_count": 29,
   "metadata": {
    "scrolled": true
   },
   "outputs": [
    {
     "data": {
      "text/html": [
       "<div>\n",
       "<style scoped>\n",
       "    .dataframe tbody tr th:only-of-type {\n",
       "        vertical-align: middle;\n",
       "    }\n",
       "\n",
       "    .dataframe tbody tr th {\n",
       "        vertical-align: top;\n",
       "    }\n",
       "\n",
       "    .dataframe thead th {\n",
       "        text-align: right;\n",
       "    }\n",
       "</style>\n",
       "<table border=\"1\" class=\"dataframe\">\n",
       "  <thead>\n",
       "    <tr style=\"text-align: right;\">\n",
       "      <th></th>\n",
       "      <th>created_utc</th>\n",
       "      <th>num_comments</th>\n",
       "      <th>score</th>\n",
       "      <th>selftextlength</th>\n",
       "      <th>selftextwordcount</th>\n",
       "    </tr>\n",
       "  </thead>\n",
       "  <tbody>\n",
       "    <tr>\n",
       "      <th>count</th>\n",
       "      <td>2.243600e+04</td>\n",
       "      <td>22436.000000</td>\n",
       "      <td>22436.000000</td>\n",
       "      <td>22436.000000</td>\n",
       "      <td>22436.000000</td>\n",
       "    </tr>\n",
       "    <tr>\n",
       "      <th>mean</th>\n",
       "      <td>1.518956e+09</td>\n",
       "      <td>18.662195</td>\n",
       "      <td>31.306650</td>\n",
       "      <td>525.098770</td>\n",
       "      <td>93.354564</td>\n",
       "    </tr>\n",
       "    <tr>\n",
       "      <th>std</th>\n",
       "      <td>5.347473e+07</td>\n",
       "      <td>59.125412</td>\n",
       "      <td>239.542464</td>\n",
       "      <td>1100.632316</td>\n",
       "      <td>186.891737</td>\n",
       "    </tr>\n",
       "    <tr>\n",
       "      <th>min</th>\n",
       "      <td>1.404292e+09</td>\n",
       "      <td>0.000000</td>\n",
       "      <td>0.000000</td>\n",
       "      <td>1.000000</td>\n",
       "      <td>0.000000</td>\n",
       "    </tr>\n",
       "    <tr>\n",
       "      <th>25%</th>\n",
       "      <td>1.474989e+09</td>\n",
       "      <td>3.000000</td>\n",
       "      <td>1.000000</td>\n",
       "      <td>151.000000</td>\n",
       "      <td>27.000000</td>\n",
       "    </tr>\n",
       "    <tr>\n",
       "      <th>50%</th>\n",
       "      <td>1.521059e+09</td>\n",
       "      <td>7.000000</td>\n",
       "      <td>2.000000</td>\n",
       "      <td>291.000000</td>\n",
       "      <td>53.000000</td>\n",
       "    </tr>\n",
       "    <tr>\n",
       "      <th>75%</th>\n",
       "      <td>1.564998e+09</td>\n",
       "      <td>16.000000</td>\n",
       "      <td>6.000000</td>\n",
       "      <td>551.000000</td>\n",
       "      <td>101.000000</td>\n",
       "    </tr>\n",
       "    <tr>\n",
       "      <th>max</th>\n",
       "      <td>1.611088e+09</td>\n",
       "      <td>3183.000000</td>\n",
       "      <td>10642.000000</td>\n",
       "      <td>39659.000000</td>\n",
       "      <td>6372.000000</td>\n",
       "    </tr>\n",
       "  </tbody>\n",
       "</table>\n",
       "</div>"
      ],
      "text/plain": [
       "        created_utc  num_comments         score  selftextlength  \\\n",
       "count  2.243600e+04  22436.000000  22436.000000    22436.000000   \n",
       "mean   1.518956e+09     18.662195     31.306650      525.098770   \n",
       "std    5.347473e+07     59.125412    239.542464     1100.632316   \n",
       "min    1.404292e+09      0.000000      0.000000        1.000000   \n",
       "25%    1.474989e+09      3.000000      1.000000      151.000000   \n",
       "50%    1.521059e+09      7.000000      2.000000      291.000000   \n",
       "75%    1.564998e+09     16.000000      6.000000      551.000000   \n",
       "max    1.611088e+09   3183.000000  10642.000000    39659.000000   \n",
       "\n",
       "       selftextwordcount  \n",
       "count       22436.000000  \n",
       "mean           93.354564  \n",
       "std           186.891737  \n",
       "min             0.000000  \n",
       "25%            27.000000  \n",
       "50%            53.000000  \n",
       "75%           101.000000  \n",
       "max          6372.000000  "
      ]
     },
     "execution_count": 29,
     "metadata": {},
     "output_type": "execute_result"
    }
   ],
   "source": [
    "bothsets.describe()"
   ]
  },
  {
   "cell_type": "code",
   "execution_count": 30,
   "metadata": {
    "scrolled": true
   },
   "outputs": [
    {
     "name": "stdout",
     "output_type": "stream",
     "text": [
      "<class 'pandas.core.frame.DataFrame'>\n",
      "Int64Index: 22436 entries, 1 to 14875\n",
      "Data columns (total 10 columns):\n",
      " #   Column             Non-Null Count  Dtype  \n",
      "---  ------             --------------  -----  \n",
      " 0   title              22436 non-null  object \n",
      " 1   selftext           22436 non-null  object \n",
      " 2   subreddit          22436 non-null  object \n",
      " 3   created_utc        22436 non-null  int64  \n",
      " 4   author             22436 non-null  object \n",
      " 5   num_comments       22436 non-null  int64  \n",
      " 6   score              22436 non-null  int64  \n",
      " 7   timestamp          22436 non-null  object \n",
      " 8   selftextlength     22436 non-null  float64\n",
      " 9   selftextwordcount  22436 non-null  float64\n",
      "dtypes: float64(2), int64(3), object(5)\n",
      "memory usage: 1.9+ MB\n"
     ]
    }
   ],
   "source": [
    "bothsets.info()"
   ]
  },
  {
   "cell_type": "markdown",
   "metadata": {},
   "source": [
    "## What's the distribution of post lengths?"
   ]
  },
  {
   "cell_type": "code",
   "execution_count": 31,
   "metadata": {
    "scrolled": true
   },
   "outputs": [
    {
     "data": {
      "image/png": "[encoded data removed]",
      "text/plain": [
       "<Figure size 1080x360 with 1 Axes>"
      ]
     },
     "metadata": {
      "needs_background": "light"
     },
     "output_type": "display_data"
    }
   ],
   "source": [
    "plt.figure(figsize = (15,5))\n",
    "plt.hist(falloutresults[\"selftextwordcount\"],\n",
    "    color = \"green\",\n",
    "    ec = \"white\",\n",
    "        bins=300);\n",
    "plt.title(\"Fallout: WordCount to Frequency\")\n",
    "plt.xlabel(\"WordCount\")\n",
    "plt.ylabel(\"Frequency\");\n",
    "plt.xlim(0,400);"
   ]
  },
  {
   "cell_type": "code",
   "execution_count": 32,
   "metadata": {},
   "outputs": [
    {
     "data": {
      "image/png": "[encoded data removed]",
      "text/plain": [
       "<Figure size 1080x360 with 1 Axes>"
      ]
     },
     "metadata": {
      "needs_background": "light"
     },
     "output_type": "display_data"
    }
   ],
   "source": [
    "plt.figure(figsize = (15,5))\n",
    "plt.hist(nomansskyresults[\"selftextwordcount\"],\n",
    "    color = \"blue\",\n",
    "    ec = \"white\",\n",
    "        bins=300);\n",
    "plt.title(\"No Mans Sky: WordCount to Frequency\")\n",
    "plt.xlabel(\"WordCount\")\n",
    "plt.ylabel(\"Frequency\");\n",
    "plt.xlim(0,400);"
   ]
  },
  {
   "cell_type": "markdown",
   "metadata": {},
   "source": [
    "# Preprocessing"
   ]
  },
  {
   "cell_type": "markdown",
   "metadata": {},
   "source": [
    "### Separate Features for Modeling"
   ]
  },
  {
   "cell_type": "code",
   "execution_count": 33,
   "metadata": {
    "scrolled": true
   },
   "outputs": [
    {
     "data": {
      "text/html": [
       "<div>\n",
       "<style scoped>\n",
       "    .dataframe tbody tr th:only-of-type {\n",
       "        vertical-align: middle;\n",
       "    }\n",
       "\n",
       "    .dataframe tbody tr th {\n",
       "        vertical-align: top;\n",
       "    }\n",
       "\n",
       "    .dataframe thead th {\n",
       "        text-align: right;\n",
       "    }\n",
       "</style>\n",
       "<table border=\"1\" class=\"dataframe\">\n",
       "  <thead>\n",
       "    <tr style=\"text-align: right;\">\n",
       "      <th></th>\n",
       "      <th>selftext</th>\n",
       "      <th>subreddit</th>\n",
       "    </tr>\n",
       "  </thead>\n",
       "  <tbody>\n",
       "    <tr>\n",
       "      <th>1</th>\n",
       "      <td>Idk but the whole \"replace humans with synths ...</td>\n",
       "      <td>Fallout</td>\n",
       "    </tr>\n",
       "  </tbody>\n",
       "</table>\n",
       "</div>"
      ],
      "text/plain": [
       "                                            selftext subreddit\n",
       "1  Idk but the whole \"replace humans with synths ...   Fallout"
      ]
     },
     "execution_count": 33,
     "metadata": {},
     "output_type": "execute_result"
    }
   ],
   "source": [
    "# Select Important Features for Modeling\n",
    "selectedfeatures = bothsets[['selftext','subreddit']]\n",
    "selectedfeatures.head(1)"
   ]
  },
  {
   "cell_type": "code",
   "execution_count": 34,
   "metadata": {
    "scrolled": true
   },
   "outputs": [],
   "source": [
    "selectedfeatures['subreddit'] = selectedfeatures['subreddit'].map({'Fallout':1, 'NoMansSkyTheGame':0})"
   ]
  },
  {
   "cell_type": "code",
   "execution_count": 35,
   "metadata": {
    "scrolled": true
   },
   "outputs": [
    {
     "data": {
      "text/plain": [
       "0    11374\n",
       "1    11062\n",
       "Name: subreddit, dtype: int64"
      ]
     },
     "execution_count": 35,
     "metadata": {},
     "output_type": "execute_result"
    }
   ],
   "source": [
    "selectedfeatures['subreddit'].value_counts()"
   ]
  },
  {
   "cell_type": "raw",
   "metadata": {},
   "source": [
    "Informed Decision by Data Visualization After Removing Stopwords Below"
   ]
  },
  {
   "cell_type": "code",
   "execution_count": 36,
   "metadata": {},
   "outputs": [],
   "source": [
    "custom = ['game','just','like','new','ve','know','com','do','https','really','time','want','people','way','make','think','people']\n",
    "combined_words = text.ENGLISH_STOP_WORDS.union(custom)"
   ]
  },
  {
   "cell_type": "code",
   "execution_count": 37,
   "metadata": {},
   "outputs": [],
   "source": [
    "def clean_strings(input_list, stopwords = []):\n",
    "    import re # we'll use regex to strip urls\n",
    "    output_list = [] # create output list\n",
    "    stopwords = [word.lower() for word in stopwords] # ensure case insensitivity for stopwords\n",
    "    for sentence in input_list:\n",
    "        sentence = re.sub(r'^https?:\\/\\/.*[\\r\\n]*', '', sentence, flags=re.MULTILINE) # remove URLS per stackoverflow\n",
    "        sentence = sentence.replace('https', '')\n",
    "        sentence = sentence.replace('\\n',' ') # replace \\n and \\t with spaces as they represent breaks between words\n",
    "        sentence = sentence.replace('\\t',' ')\n",
    "        sentence = ''.join([letter for letter in sentence if letter.isalpha() or letter == ' ']) #remove numbers and punctuation\n",
    "        sentence = ' '.join([word.lower() for word in sentence.split() if word.lower() not in stopwords]) #coerce to lowercase while removing stopwords\n",
    "        output_list.append(sentence) # add to the output list\n",
    "    return output_list"
   ]
  },
  {
   "cell_type": "code",
   "execution_count": 38,
   "metadata": {
    "scrolled": false
   },
   "outputs": [],
   "source": [
    "selectedfeatures['cleantext'] = clean_strings(selectedfeatures['selftext'], stopwords=combined_words)\n",
    "tokenizer = RegexpTokenizer('\\w+')\n",
    "selectedfeatures['cleantexttokenized'] = selectedfeatures.apply(lambda row: tokenizer.tokenize(row['cleantext'].lower()), axis=1)\n",
    "lemmatizer = WordNetLemmatizer()\n",
    "cleantexttokenizedlem = [[lemmatizer.lemmatize(word) for word in row] for row in selectedfeatures['cleantexttokenized']]\n",
    "selectedfeatures['cleantexttokenizedlem'] = cleantexttokenizedlem\n",
    "selectedfeatures['cleantexttokenized'] = selectedfeatures['cleantexttokenized'].map(lambda x: ' '.join(x))\n",
    "selectedfeatures['cleantexttokenizedlem'] = selectedfeatures['cleantexttokenizedlem'].map(lambda x: ' '.join(x))\n",
    "tokenizer = RegexpTokenizer('\\w+')\n",
    "selectedfeatures['tokenized'] = selectedfeatures.apply(lambda row: tokenizer.tokenize(row['selftext'].lower()), axis=1)\n",
    "lemmatizer = WordNetLemmatizer()\n",
    "lemtokens1 = [[lemmatizer.lemmatize(word) for word in row] for row in selectedfeatures['tokenized']]\n",
    "selectedfeatures['lemtokenized'] = lemtokens1\n",
    "selectedfeatures['tokenized'] = selectedfeatures['tokenized'].map(lambda x: ' '.join(x))\n",
    "selectedfeatures['lemtokenized'] = selectedfeatures['lemtokenized'].map(lambda x: ' '.join(x))"
   ]
  },
  {
   "cell_type": "code",
   "execution_count": 39,
   "metadata": {
    "scrolled": true
   },
   "outputs": [
    {
     "data": {
      "text/html": [
       "<div>\n",
       "<style scoped>\n",
       "    .dataframe tbody tr th:only-of-type {\n",
       "        vertical-align: middle;\n",
       "    }\n",
       "\n",
       "    .dataframe tbody tr th {\n",
       "        vertical-align: top;\n",
       "    }\n",
       "\n",
       "    .dataframe thead th {\n",
       "        text-align: right;\n",
       "    }\n",
       "</style>\n",
       "<table border=\"1\" class=\"dataframe\">\n",
       "  <thead>\n",
       "    <tr style=\"text-align: right;\">\n",
       "      <th></th>\n",
       "      <th>selftext</th>\n",
       "      <th>subreddit</th>\n",
       "      <th>cleantext</th>\n",
       "      <th>cleantexttokenized</th>\n",
       "      <th>cleantexttokenizedlem</th>\n",
       "      <th>tokenized</th>\n",
       "      <th>lemtokenized</th>\n",
       "    </tr>\n",
       "  </thead>\n",
       "  <tbody>\n",
       "    <tr>\n",
       "      <th>1</th>\n",
       "      <td>Idk but the whole \"replace humans with synths ...</td>\n",
       "      <td>1</td>\n",
       "      <td>idk replace humans synths mysterious institute...</td>\n",
       "      <td>idk replace humans synths mysterious institute...</td>\n",
       "      <td>idk replace human synths mysterious institute ...</td>\n",
       "      <td>idk but the whole replace humans with synths f...</td>\n",
       "      <td>idk but the whole replace human with synths fr...</td>\n",
       "    </tr>\n",
       "  </tbody>\n",
       "</table>\n",
       "</div>"
      ],
      "text/plain": [
       "                                            selftext  subreddit  \\\n",
       "1  Idk but the whole \"replace humans with synths ...          1   \n",
       "\n",
       "                                           cleantext  \\\n",
       "1  idk replace humans synths mysterious institute...   \n",
       "\n",
       "                                  cleantexttokenized  \\\n",
       "1  idk replace humans synths mysterious institute...   \n",
       "\n",
       "                               cleantexttokenizedlem  \\\n",
       "1  idk replace human synths mysterious institute ...   \n",
       "\n",
       "                                           tokenized  \\\n",
       "1  idk but the whole replace humans with synths f...   \n",
       "\n",
       "                                        lemtokenized  \n",
       "1  idk but the whole replace human with synths fr...  "
      ]
     },
     "execution_count": 39,
     "metadata": {},
     "output_type": "execute_result"
    }
   ],
   "source": [
    "selectedfeatures.head(1)"
   ]
  },
  {
   "cell_type": "code",
   "execution_count": 40,
   "metadata": {},
   "outputs": [
    {
     "data": {
      "text/plain": [
       "'/Users/ch/Desktop/GA/Projects/project_3'"
      ]
     },
     "execution_count": 40,
     "metadata": {},
     "output_type": "execute_result"
    }
   ],
   "source": [
    "pwd!"
   ]
  },
  {
   "cell_type": "code",
   "execution_count": 41,
   "metadata": {
    "scrolled": true
   },
   "outputs": [
    {
     "data": {
      "text/plain": [
       "(22436, 7)"
      ]
     },
     "execution_count": 41,
     "metadata": {},
     "output_type": "execute_result"
    }
   ],
   "source": [
    "selectedfeatures.shape"
   ]
  },
  {
   "cell_type": "code",
   "execution_count": 42,
   "metadata": {
    "scrolled": true
   },
   "outputs": [
    {
     "data": {
      "text/plain": [
       "selftext                 0\n",
       "subreddit                0\n",
       "cleantext                0\n",
       "cleantexttokenized       0\n",
       "cleantexttokenizedlem    0\n",
       "tokenized                0\n",
       "lemtokenized             0\n",
       "dtype: int64"
      ]
     },
     "execution_count": 42,
     "metadata": {},
     "output_type": "execute_result"
    }
   ],
   "source": [
    "selectedfeatures.isnull().sum()"
   ]
  },
  {
   "cell_type": "markdown",
   "metadata": {},
   "source": [
    "# EXPORT COMPLETE DATASETS TO DATASET DIRECTORY"
   ]
  },
  {
   "cell_type": "code",
   "execution_count": 43,
   "metadata": {},
   "outputs": [],
   "source": [
    "bothsets.to_csv('Datasets/bothsets.csv', index = False)"
   ]
  },
  {
   "cell_type": "code",
   "execution_count": 44,
   "metadata": {
    "scrolled": false
   },
   "outputs": [
    {
     "data": {
      "text/plain": [
       "(22436, 7)"
      ]
     },
     "execution_count": 44,
     "metadata": {},
     "output_type": "execute_result"
    }
   ],
   "source": [
    "selectedfeatures.shape"
   ]
  },
  {
   "cell_type": "code",
   "execution_count": 45,
   "metadata": {
    "scrolled": true
   },
   "outputs": [
    {
     "data": {
      "text/plain": [
       "selftext                 0\n",
       "subreddit                0\n",
       "cleantext                0\n",
       "cleantexttokenized       0\n",
       "cleantexttokenizedlem    0\n",
       "tokenized                0\n",
       "lemtokenized             0\n",
       "dtype: int64"
      ]
     },
     "execution_count": 45,
     "metadata": {},
     "output_type": "execute_result"
    }
   ],
   "source": [
    "selectedfeatures.isnull().sum()"
   ]
  },
  {
   "cell_type": "code",
   "execution_count": 46,
   "metadata": {},
   "outputs": [],
   "source": [
    "selectedfeatures.to_csv('Datasets/selectedfeatures.csv', index = False)"
   ]
  },
  {
   "cell_type": "markdown",
   "metadata": {},
   "source": [
    "## Most Common Words both Datasets Before and After Stopword Removal"
   ]
  },
  {
   "cell_type": "code",
   "execution_count": 47,
   "metadata": {
    "scrolled": false
   },
   "outputs": [
    {
     "data": {
      "text/plain": [
       "<Figure size 1080x1080 with 0 Axes>"
      ]
     },
     "metadata": {},
     "output_type": "display_data"
    },
    {
     "data": {
      "image/png": "[encoded data removed]",
      "text/plain": [
       "<Figure size 720x576 with 2 Axes>"
      ]
     },
     "metadata": {
      "needs_background": "light"
     },
     "output_type": "display_data"
    }
   ],
   "source": [
    "X = selectedfeatures['selftext']\n",
    "y = selectedfeatures['subreddit']\n",
    "X_train, X_test, y_train, y_test = train_test_split(X,y,test_size=0.25,stratify=y,random_state=42)\n",
    "cvec = CountVectorizer()\n",
    "X_train = cvec.fit_transform(X_train)\n",
    "X_test = cvec.transform(X_test)\n",
    "X_train_df = pd.DataFrame(X_train.todense(),columns=cvec.get_feature_names())\n",
    "selectedfeaturesbeforestopword = X_train_df.sum().sort_values(ascending=False).head(20)\n",
    "\n",
    "Xsw = selectedfeatures['selftext']\n",
    "ysw = selectedfeatures['subreddit']\n",
    "Xsw_train, Xsw_test, ysw_train, ysw_test = train_test_split(Xsw,ysw,test_size=0.25,stratify=y,random_state=42)\n",
    "cvec = CountVectorizer(stop_words = 'english')\n",
    "Xsw_train = cvec.fit_transform(Xsw_train)\n",
    "Xsw_test = cvec.transform(Xsw_test)\n",
    "Xsw_train_df = pd.DataFrame(Xsw_train.todense(),columns=cvec.get_feature_names())\n",
    "selectedfeaturesafterstopword = Xsw_train_df.sum().sort_values(ascending=False).head(20)\n",
    "\n",
    "plt.figure(figsize = (15, 15))\n",
    "temp = pd.DataFrame({\"selectedfeaturesbeforestopword\": selectedfeaturesbeforestopword.index,\"selectedfeaturesafterstopword\": selectedfeaturesafterstopword.index})\n",
    "fig, (ax1, ax2) = plt.subplots(2,1,figsize=(10,8))\n",
    "fig.suptitle(\"Merged Dataset: Text Before and After Removing Stopwords\");\n",
    "ax1.barh(temp.selectedfeaturesbeforestopword, selectedfeaturesbeforestopword, height=0.8)\n",
    "ax2.barh(temp.selectedfeaturesafterstopword, selectedfeaturesafterstopword, height=0.8);"
   ]
  },
  {
   "cell_type": "markdown",
   "metadata": {},
   "source": [
    "## Most Common Words Fallout  Before and After Stopword Removal"
   ]
  },
  {
   "cell_type": "code",
   "execution_count": 48,
   "metadata": {
    "scrolled": false
   },
   "outputs": [
    {
     "data": {
      "text/plain": [
       "<Figure size 1080x1080 with 0 Axes>"
      ]
     },
     "metadata": {},
     "output_type": "display_data"
    },
    {
     "data": {
      "image/png": "[encoded data removed]",
      "text/plain": [
       "<Figure size 720x576 with 2 Axes>"
      ]
     },
     "metadata": {
      "needs_background": "light"
     },
     "output_type": "display_data"
    }
   ],
   "source": [
    "falloutresults1 = selectedfeatures[(selectedfeatures['subreddit']==1)]\n",
    "X = falloutresults1['selftext']\n",
    "y = falloutresults1['subreddit']\n",
    "X_train, X_test, y_train, y_test = train_test_split(X,y,test_size=0.25,stratify=y,random_state=42)\n",
    "cvec = CountVectorizer()\n",
    "X_train = cvec.fit_transform(X_train)\n",
    "X_test = cvec.transform(X_test)\n",
    "X_train_df = pd.DataFrame(X_train.todense(), columns=cvec.get_feature_names())\n",
    "falloutbeforestopword = X_train_df.sum().sort_values(ascending=False).head(20)\n",
    "\n",
    "X = falloutresults1['selftext']\n",
    "y = falloutresults1['subreddit']\n",
    "X_train, X_test, y_train, y_test = train_test_split(X,y,test_size=0.25,stratify=y,random_state=42)\n",
    "cvec = CountVectorizer(stop_words = 'english')\n",
    "X_train = cvec.fit_transform(X_train)\n",
    "X_test = cvec.transform(X_test)\n",
    "X_train_df = pd.DataFrame(X_train.todense(),columns=cvec.get_feature_names())\n",
    "falloutafterstopword = X_train_df.sum().sort_values(ascending=False).head(20)\n",
    "plt.figure(figsize = (15, 15))\n",
    "tempdf1 = pd.DataFrame({\"falloutbeforestopword\": falloutbeforestopword.index,\"falloutafterstopword\": falloutafterstopword.index})\n",
    "fig, (ax1, ax2) = plt.subplots(2,1,figsize=(10,8))\n",
    "\n",
    "fig.suptitle(\"Fallout Text Before and After Removing Stopwords\");\n",
    "ax1.barh(tempdf1.falloutbeforestopword, falloutbeforestopword, height=0.8)\n",
    "ax2.barh(tempdf1.falloutafterstopword, falloutafterstopword, height=0.8);"
   ]
  },
  {
   "cell_type": "markdown",
   "metadata": {},
   "source": [
    "## Most Common Words NoMansSky  Before After Stopword Removal"
   ]
  },
  {
   "cell_type": "code",
   "execution_count": 49,
   "metadata": {},
   "outputs": [
    {
     "data": {
      "text/plain": [
       "<Figure size 1080x1080 with 0 Axes>"
      ]
     },
     "metadata": {},
     "output_type": "display_data"
    },
    {
     "data": {
      "image/png": "[encoded data removed]",
      "text/plain": [
       "<Figure size 720x576 with 2 Axes>"
      ]
     },
     "metadata": {
      "needs_background": "light"
     },
     "output_type": "display_data"
    }
   ],
   "source": [
    "nomansskyresults1 = selectedfeatures[(selectedfeatures['subreddit']==0)]\n",
    "X = nomansskyresults1['selftext']\n",
    "y = nomansskyresults1['subreddit']\n",
    "X_train, X_test, y_train, y_test = train_test_split(X,y,test_size=0.25,stratify=y,random_state=42)\n",
    "cvec = CountVectorizer()\n",
    "X_train = cvec.fit_transform(X_train)\n",
    "X_test = cvec.transform(X_test)\n",
    "X_train_df = pd.DataFrame(X_train.todense(),columns=cvec.get_feature_names())\n",
    "nomansskybeforestopword = X_train_df.sum().sort_values(ascending=False).head(20)\n",
    "\n",
    "X = nomansskyresults1['selftext']\n",
    "y = nomansskyresults1['subreddit']\n",
    "X_train, X_test, y_train, y_test = train_test_split(X,y,test_size=0.25,stratify=y,random_state=42)\n",
    "cvec = CountVectorizer(stop_words = 'english')\n",
    "X_train = cvec.fit_transform(X_train)\n",
    "X_test = cvec.transform(X_test)\n",
    "X_train_df = pd.DataFrame(X_train.todense(),columns=cvec.get_feature_names())\n",
    "nomansskyafterstopword = X_train_df.sum().sort_values(ascending=False).head(20)\n",
    "\n",
    "plt.figure(figsize = (15, 15))\n",
    "tempdf2 = pd.DataFrame({\"nomansskybeforestopword\": nomansskybeforestopword.index,\"nomansskyafterstopword\": nomansskyafterstopword.index})\n",
    "fig, (ax1, ax2) = plt.subplots(2,1,figsize=(10,8))\n",
    "fig.suptitle(\"NoMansSky Text Before and After Removing Stopwords\");\n",
    "ax1.barh(tempdf2.nomansskybeforestopword, nomansskybeforestopword, height=0.8)\n",
    "ax2.barh(tempdf2.nomansskyafterstopword, nomansskyafterstopword, height=0.8);"
   ]
  },
  {
   "cell_type": "code",
   "execution_count": 50,
   "metadata": {
    "scrolled": false
   },
   "outputs": [
    {
     "data": {
      "text/plain": [
       "<Figure size 1080x1080 with 0 Axes>"
      ]
     },
     "metadata": {},
     "output_type": "display_data"
    },
    {
     "data": {
      "image/png": "[encoded data removed]",
      "text/plain": [
       "<Figure size 720x576 with 2 Axes>"
      ]
     },
     "metadata": {
      "needs_background": "light"
     },
     "output_type": "display_data"
    }
   ],
   "source": [
    "plt.figure(figsize = (15, 15))\n",
    "fig, (ax1, ax2) = plt.subplots(2,1,figsize=(10,8))\n",
    "fig.suptitle(\"After Removing Stopwords: Most Common Words for Fallout and NoMansSky\");\n",
    "ax1.barh(tempdf1.falloutafterstopword, falloutafterstopword, height=0.8)\n",
    "ax2.barh(tempdf2.nomansskyafterstopword, nomansskyafterstopword, height=0.8);"
   ]
  },
  {
   "cell_type": "code",
   "execution_count": 51,
   "metadata": {
    "scrolled": true
   },
   "outputs": [
    {
     "data": {
      "text/plain": [
       "game       10264\n",
       "just        7886\n",
       "like        6719\n",
       "fallout     5877\n",
       "new         4628\n",
       "ve          4358\n",
       "know        4073\n",
       "time        3411\n",
       "com         3387\n",
       "https       3274\n",
       "don         3187\n",
       "really      2904\n",
       "think       2904\n",
       "want        2780\n",
       "way         2688\n",
       "amp         2590\n",
       "make        2585\n",
       "planet      2535\n",
       "ship        2408\n",
       "people      2333\n",
       "dtype: int64"
      ]
     },
     "execution_count": 51,
     "metadata": {},
     "output_type": "execute_result"
    }
   ],
   "source": [
    "selectedfeaturesafterstopword"
   ]
  },
  {
   "cell_type": "code",
   "execution_count": 52,
   "metadata": {},
   "outputs": [],
   "source": [
    "newstopwords = ['game','just','like','new','ve','know','com','do','https','really','time','want','people','way','make','think','people']"
   ]
  },
  {
   "cell_type": "code",
   "execution_count": 53,
   "metadata": {},
   "outputs": [],
   "source": [
    "newstopwords = pd.DataFrame(newstopwords)"
   ]
  },
  {
   "cell_type": "code",
   "execution_count": 54,
   "metadata": {},
   "outputs": [],
   "source": [
    "newstopwords.to_csv('Datasets/newstopwords',index=False)"
   ]
  },
  {
   "cell_type": "code",
   "execution_count": 55,
   "metadata": {},
   "outputs": [],
   "source": [
    "nomansskyafterstopword1 = X_train_df.sum().sort_values(ascending=False).head(50)"
   ]
  },
  {
   "cell_type": "raw",
   "metadata": {},
   "source": [
    "nomansskyafterstopword1.head(50)"
   ]
  }
 ],
 "metadata": {
  "kernelspec": {
   "display_name": "Python 3",
   "language": "python",
   "name": "python3"
  },
  "language_info": {
   "codemirror_mode": {
    "name": "ipython",
    "version": 3
   },
   "file_extension": ".py",
   "mimetype": "text/x-python",
   "name": "python",
   "nbconvert_exporter": "python",
   "pygments_lexer": "ipython3",
   "version": "3.8.5"
  }
 },
 "nbformat": 4,
 "nbformat_minor": 4
}
